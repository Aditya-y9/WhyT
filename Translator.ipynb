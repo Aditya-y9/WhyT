{
  "nbformat": 4,
  "nbformat_minor": 0,
  "metadata": {
    "colab": {
      "provenance": [],
      "authorship_tag": "ABX9TyMpbFBxYlj/3cmm31LNUgDL",
      "include_colab_link": true
    },
    "kernelspec": {
      "name": "python3",
      "display_name": "Python 3"
    },
    "language_info": {
      "name": "python"
    }
  },
  "cells": [
    {
      "cell_type": "markdown",
      "metadata": {
        "id": "view-in-github",
        "colab_type": "text"
      },
      "source": [
        "<a href=\"https://colab.research.google.com/github/Aditya-y9/inheritance-project/blob/main/Translator.ipynb\" target=\"_parent\"><img src=\"https://colab.research.google.com/assets/colab-badge.svg\" alt=\"Open In Colab\"/></a>"
      ]
    },
    {
      "cell_type": "code",
      "execution_count": null,
      "metadata": {
        "id": "QG0qMDMTnIqt"
      },
      "outputs": [],
      "source": [
        "!pip install translate\n",
        "!pip install fitz\n",
        "!pip install PyMuPDF"
      ]
    },
    {
      "cell_type": "code",
      "source": [
        "from translate import Translator\n",
        "\n",
        "def translate_long_text(long_text, target_language='en', chunk_size=500):\n",
        "    translator = Translator(to_lang=target_language)\n",
        "\n",
        "    # Split the long text into chunks\n",
        "    text_chunks = [long_text[i:i+chunk_size] for i in range(0, len(long_text), chunk_size)]\n",
        "\n",
        "    # Translate each chunk and concatenate the results\n",
        "    translated_text = ''\n",
        "    for chunk in text_chunks:\n",
        "        translated_text += translator.translate(chunk) + ' '\n",
        "\n",
        "    return translated_text.strip()"
      ],
      "metadata": {
        "id": "uWNKBzCRoshv"
      },
      "execution_count": null,
      "outputs": []
    },
    {
      "cell_type": "code",
      "source": [
        "import fitz\n",
        "def extract_text_from_pdf(pdf_path):\n",
        "    text = \"\"\n",
        "    try:\n",
        "        with fitz.open(pdf_path) as doc:\n",
        "            for page_num in range(doc.page_count):\n",
        "                page = doc[page_num]\n",
        "                text += page.get_text()\n",
        "    except Exception as e:\n",
        "        print(f\"Error extracting text: {str(e)}\")\n",
        "    return text"
      ],
      "metadata": {
        "id": "lgz0Bh5Vo7Nd"
      },
      "execution_count": null,
      "outputs": []
    },
    {
      "cell_type": "code",
      "source": [
        "target_language_code = 'hi'\n",
        "\n",
        "    # Perform translation\n",
        "translated_text = translate_long_text(extract_text_from_pdf(\"/content/transcript_output.pdf\"), target_language=target_language_code)"
      ],
      "metadata": {
        "id": "swWad2f-owIV"
      },
      "execution_count": null,
      "outputs": []
    },
    {
      "cell_type": "code",
      "source": [
        "translated_text"
      ],
      "metadata": {
        "colab": {
          "base_uri": "https://localhost:8080/",
          "height": 126
        },
        "id": "kMAVaF0Jp-Ll",
        "outputId": "c070f7f5-6359-46a4-fa96-b247ca429f11"
      },
      "execution_count": null,
      "outputs": [
        {
          "output_type": "execute_result",
          "data": {
            "text/plain": [
              "'भाषा कोड: en\\nपाकिस्तानी पत्रकार अरु काजमी भी अब हमसे जुड़ रहे हैं आपके समय के लिए बहुत - बहुत धन्यवाद\\nपाकिस्तान के एफएआर द्वारा दी गई प्रतिक्रिया को एक विनम्र प्रकार के प्रतिक्रिया बयान के रूप में देखा जा रहा है\\nकि दो बच्चों को मार दिया गया है तीन महिलाओं को तीन तीन लड़कियों को भी घायल कर दिया गया है आप कैसे करते हैं\\nपाकिस्तान उम की इस प्रतिक्रिया को देखो मुझे लगता है कि पाकिस्तान सही समाचार को सूचित नहीं कर रहा है\\nपत्रकार मुझे ऐसा लगता है क्योंकि यह कैसे संभव है कि ईरान पाकिस्तान पर हमला करे वादकारी समूह और यह\\nयह केवल दो बच्चों को मारता है और तीन घायल हो जाते हैं इसलिए कुछ ऐसा है जिसका हम पूरी खबर का इंतजार कर रहे हैं और मैं\\nलगता है कि पूरी उह खबर हमें कुछ घंटों के बाद मिलेगी क्योंकि यह बहुत जल्दी है कि मैं इस पर टिप्पणी करता हूं\\nऔर उह लेकिन फिर भी विदेश कार्यालय ने यह उह स्टेटमेंट जारी किया या उह यह वही है जो मैं कहना चाहता हूं कि हाँ यह\\nआतंकवादी समूह शामिल था और ईरान पर कई बार हमला करता था इसलिए हम आश्चर्यचकित नहीं हैं कि ईरान\\nउन्हें मारने की कोशिश की या उन्हें मारने की कोशिश की लेकिन हाँ उह हम इंतजार कर रहे हैं एफ या ISPR और जारी करने के लिए विदेश कार्यालय भी\\nइसके बारे में एक पूर्ण विस्तृत बयान जिसे आप एक महीने के समय में होने वाले चुनावों की उम्मीद के रूप में भी जानते हैं\\nअपने देश में बस हमें इस बात का एहसास दिलाएं कि आप इसे घरेलू राजनीति के रूप में कैसे देखते हैं\\nदिन के अंत में इस बात से चिंतित कि अभी तक एक और हड़ताल हुई है उह अनिवार्य रूप से\\nजो इस क्षेत्र में तनाव को और बढ़ाने जा रहा है लेकिन पाकिस्तान वास्तव में क्या कर रहा है\\nयह नहीं मुझे नहीं लगता कि उह चुनाव बहुत पाकिस्तान में गंभीर मामला है क्योंकि हर कोई जानता है\\nकौन प्रधानमंत्री के रूप में आ रहा है और कौन पाकिस्तान में इतनी उह सरकार बना रहा है\\nआम आदमी आम आदमी नहीं है चुनाव में दिलचस्पी नहीं है लेकिन हाँ यह हड़ताल बहुत उह है\\nगंभीर और पहले से ही पाकिस्तान अफगान सीमा से परेशानियों का सामना कर रहा है जैसा कि आप जानते हैं कि टीटी टीपी\\nहमला करना और टीटीपी सक्षम नहीं है हम पाकिस्तान टीटीपी को नियंत्रित करने में सक्षम नहीं है इसलिए यह वास्तव में एक कठिन समय है\\nपाकिस्तान के लिए क्योंकि अब उन्हें उह करना है ईरान और उह मुझे नहीं लगता कि पाकिस्तान\\nईरान पर हमला करेंगे क्योंकि कुछ राजनेता और कुछ पत्रकार हैं जो चाहते हैं कि पाकिस्तान हमला करे\\nइसी तरह की बात है लेकिन मुझे नहीं लगता कि पाकिस्तान यह कर सकता है कोई सैन्य प्रतिक्रिया नहीं है लेकिन\\nराजनयिक रूप से जहां तक दोनों देशों के बीच संबंधों की स्थिति है\\nदेश चिंतित हैं वहाँ निश्चित रूप से एक संकट है वहाँ और भी अधिक मसालेदार है aru मैं धन्यवाद करने जा रहा हूँ\\nअपने दृष्टिकोण के साथ जुड़ने के लिए फिलहाल आप अब पायल कहा रहती है'"
            ],
            "application/vnd.google.colaboratory.intrinsic+json": {
              "type": "string"
            }
          },
          "metadata": {},
          "execution_count": 22
        }
      ]
    }
  ]
}