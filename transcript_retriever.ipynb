{
  "nbformat": 4,
  "nbformat_minor": 0,
  "metadata": {
    "colab": {
<<<<<<< HEAD
      "provenance": []
=======
      "provenance": [],
      "authorship_tag": "ABX9TyPZ4pIKTkdRze2D8gv/OsAv",
      "include_colab_link": true
>>>>>>> ba896069cc1d7d8abb595aa3632f9c738b7e6061
    },
    "kernelspec": {
      "name": "python3",
      "display_name": "Python 3"
    },
    "language_info": {
      "name": "python"
    }
  },
  "cells": [
    {
<<<<<<< HEAD
=======
      "cell_type": "markdown",
      "metadata": {
        "id": "view-in-github",
        "colab_type": "text"
      },
      "source": [
        "<a href=\"https://colab.research.google.com/github/Aditya-y9/inheritance-project/blob/main/transcript_retriever.ipynb\" target=\"_parent\"><img src=\"https://colab.research.google.com/assets/colab-badge.svg\" alt=\"Open In Colab\"/></a>"
      ]
    },
    {
>>>>>>> ba896069cc1d7d8abb595aa3632f9c738b7e6061
      "cell_type": "code",
      "source": [
        "!pip install fpdf\n",
        "!pip install pytube\n",
        "!pip install youtube-transcript-api\n",
        "!pip install fpdf\n",
        "!pip install youtube_transcript_api\n"
      ],
      "metadata": {
<<<<<<< HEAD
        "id": "LVKEGB-_FxMF"
      },
      "execution_count": null,
      "outputs": []
=======
        "colab": {
          "base_uri": "https://localhost:8080/"
        },
        "id": "LVKEGB-_FxMF",
        "outputId": "5bb34330-5448-4fb8-87d9-df16ee2f31da"
      },
      "execution_count": 1,
      "outputs": [
        {
          "output_type": "stream",
          "name": "stdout",
          "text": [
            "Collecting fpdf\n",
            "  Downloading fpdf-1.7.2.tar.gz (39 kB)\n",
            "  Preparing metadata (setup.py) ... \u001b[?25l\u001b[?25hdone\n",
            "Building wheels for collected packages: fpdf\n",
            "  Building wheel for fpdf (setup.py) ... \u001b[?25l\u001b[?25hdone\n",
            "  Created wheel for fpdf: filename=fpdf-1.7.2-py2.py3-none-any.whl size=40703 sha256=ee0bcaf21a6fb7f4c717b31bfe149952c313130bbc0abf8b9ee18e1416a9b57e\n",
            "  Stored in directory: /root/.cache/pip/wheels/f9/95/ba/f418094659025eb9611f17cbcaf2334236bf39a0c3453ea455\n",
            "Successfully built fpdf\n",
            "Installing collected packages: fpdf\n",
            "Successfully installed fpdf-1.7.2\n",
            "Collecting pytube\n",
            "  Downloading pytube-15.0.0-py3-none-any.whl (57 kB)\n",
            "\u001b[2K     \u001b[90m━━━━━━━━━━━━━━━━━━━━━━━━━━━━━━━━━━━━━━━━\u001b[0m \u001b[32m57.6/57.6 kB\u001b[0m \u001b[31m1.0 MB/s\u001b[0m eta \u001b[36m0:00:00\u001b[0m\n",
            "\u001b[?25hInstalling collected packages: pytube\n",
            "Successfully installed pytube-15.0.0\n",
            "Collecting youtube-transcript-api\n",
            "  Downloading youtube_transcript_api-0.6.2-py3-none-any.whl (24 kB)\n",
            "Requirement already satisfied: requests in /usr/local/lib/python3.10/dist-packages (from youtube-transcript-api) (2.31.0)\n",
            "Requirement already satisfied: charset-normalizer<4,>=2 in /usr/local/lib/python3.10/dist-packages (from requests->youtube-transcript-api) (3.3.2)\n",
            "Requirement already satisfied: idna<4,>=2.5 in /usr/local/lib/python3.10/dist-packages (from requests->youtube-transcript-api) (3.6)\n",
            "Requirement already satisfied: urllib3<3,>=1.21.1 in /usr/local/lib/python3.10/dist-packages (from requests->youtube-transcript-api) (2.0.7)\n",
            "Requirement already satisfied: certifi>=2017.4.17 in /usr/local/lib/python3.10/dist-packages (from requests->youtube-transcript-api) (2023.11.17)\n",
            "Installing collected packages: youtube-transcript-api\n",
            "Successfully installed youtube-transcript-api-0.6.2\n",
            "Requirement already satisfied: fpdf in /usr/local/lib/python3.10/dist-packages (1.7.2)\n",
            "Requirement already satisfied: youtube_transcript_api in /usr/local/lib/python3.10/dist-packages (0.6.2)\n",
            "Requirement already satisfied: requests in /usr/local/lib/python3.10/dist-packages (from youtube_transcript_api) (2.31.0)\n",
            "Requirement already satisfied: charset-normalizer<4,>=2 in /usr/local/lib/python3.10/dist-packages (from requests->youtube_transcript_api) (3.3.2)\n",
            "Requirement already satisfied: idna<4,>=2.5 in /usr/local/lib/python3.10/dist-packages (from requests->youtube_transcript_api) (3.6)\n",
            "Requirement already satisfied: urllib3<3,>=1.21.1 in /usr/local/lib/python3.10/dist-packages (from requests->youtube_transcript_api) (2.0.7)\n",
            "Requirement already satisfied: certifi>=2017.4.17 in /usr/local/lib/python3.10/dist-packages (from requests->youtube_transcript_api) (2023.11.17)\n"
          ]
        }
      ]
>>>>>>> ba896069cc1d7d8abb595aa3632f9c738b7e6061
    },
    {
      "cell_type": "code",
      "source": [
        "from youtube_transcript_api import YouTubeTranscriptApi\n",
        "from fpdf import *"
      ],
      "metadata": {
        "id": "g3jk4a0QF2EM"
      },
      "execution_count": 2,
      "outputs": []
    },
    {
      "cell_type": "code",
      "source": [
        "def get_transcript(youtube_url, output_pdf_path):\n",
        "    video_id = youtube_url.split(\"v=\")[-1]\n",
        "    transcript_list = YouTubeTranscriptApi.list_transcripts(video_id)\n",
        "\n",
        "    # Try fetching the manual transcript\n",
        "    try:\n",
        "        transcript = transcript_list.find_manually_created_transcript()\n",
        "        language_code = transcript.language_code  # Save the detected language\n",
        "    except:\n",
        "        # If no manual transcript is found, try fetching an auto-generated transcript in a supported language\n",
        "        try:\n",
        "            generated_transcripts = [trans for trans in transcript_list if trans.is_generated]\n",
        "            transcript = generated_transcripts[0]\n",
        "            language_code = transcript.language_code  # Save the detected language\n",
        "        except:\n",
        "            # If no auto-generated transcript is found, raise an exception\n",
        "            raise Exception(\"No suitable transcript found.\")\n",
        "\n",
        "    full_transcript = \" \".join([part['text'] for part in transcript.fetch()])\n",
        "\n",
        "    # Save the transcript to a PDF file\n",
        "    save_to_pdf(full_transcript, language_code, output_pdf_path)\n",
        "\n",
        "    return full_transcript, language_code  # Return both the transcript and detected language"
      ],
      "metadata": {
        "id": "TKnOrdnjF5rv"
      },
      "execution_count": 3,
      "outputs": []
    },
    {
      "cell_type": "code",
      "source": [
        "def save_to_pdf(transcript, language_code, output_pdf_path):\n",
        "    pdf = FPDF()\n",
        "    pdf.add_page()\n",
        "    pdf.set_font(\"Arial\", size=12)\n",
        "\n",
        "    pdf.cell(200, 10, txt=f\"Language Code: {language_code}\", ln=True, align='C')\n",
        "    pdf.ln(10)\n",
        "\n",
        "    pdf.multi_cell(0, 10, txt=transcript)\n",
        "\n",
        "    pdf.output(output_pdf_path)"
      ],
      "metadata": {
        "id": "OV1PSDGcF8e8"
      },
      "execution_count": 4,
      "outputs": []
    },
    {
      "cell_type": "code",
      "execution_count": 8,
      "metadata": {
        "colab": {
          "base_uri": "https://localhost:8080/"
        },
        "id": "GEbQK3StFoTb",
        "outputId": "7ac44c5e-f6f0-4fea-fc50-b6e9440285a6"
      },
      "outputs": [
        {
          "name": "stdout",
          "output_type": "stream",
          "text": [
            "Enter Video Link: https://www.youtube.com/watch?v=LXkO4HdQXdo\n"
          ]
        },
        {
          "output_type": "execute_result",
          "data": {
            "text/plain": [
              "(\"if you traveled 10 000 years into the future what would planet earth look like would most of its surface be covered in volcanoes or would it be frozen in ice what if you traveled even further to one million years in the future would all of the oceans have evaporated or would it have become one giant water world okay now what about 1 billion years would there be any humans left or would they have settled in other parts of the galaxy this is what if and here's what would happen if you traveled 1 billion years into the future let's face it the chances of any humans being around to greet you when you arrive 1 billion years into the future are pretty low several key existential threats face the human race and if we want to be around in one billion years we'll need to endure them all we've seen how much we've struggled to come together just to survive a global pandemic so how do we have any chance of enduring the threats of climate change overpopulation global nuclear war killer asteroids and comets natural ice ages and the sun getting a whole lot hotter well let's take a look into the future and find out just under ten thousand years from now we're going to run into a big problem called the deca millennium bug in the year ten thousand ad software encoding the ad calendar year won't encode dates with more than four decimals remember y2k yeah it's just like that except hopefully we won't panic as much this time around on the bright side in 10 000 years genetic differences and traits between humans will no longer be regional traits like skin and hair color will be evenly distributed around the world maybe that will help us all get along finally twenty thousand years into the future none of the current languages will be recognizable future languages will only contain one percent of the core vocabulary words of their present day counterparts fifty thousand years from now will mark a new glacial period for the earth which will start a new ice age niagara falls will have eroded into lake erie completely and interestingly a full day on earth will also increase by one second at this point in time so much more time for activities in 250 000 years the loihi volcano will rise above the water to form a new island in hawaii and in 500 000 years it's likely that an asteroid with a diameter greater than one kilometer will hit earth unless we can prevent it the resulting crater will be no less than 400 kilometers across it will start fires all over the planet and make the air unbreathable so there's something to look forward to and in case that's not enough in 1 million years we'll likely have another super volcano eruption large enough to spew out 3 200 cubic kilometers of ash it would produce enough lava to fill 75 of the grand canyon this would be similar to the toba eruption that almost wiped out humanity 70 000 years ago oh and the nearby star beetlejuice will have exploded into a supernova by this time making it visible from earth even during the daytime in 2 million a.d humanity will have settlements throughout the solar system this also means that if populations on different planets have remained separate humans may have evolved into other species adapted to their specific world in 10 million years a huge part of eastern africa will break off forming a new ocean basin [Music] in 50 million years africa will collide with eurasia closing off the mediterranean sea and a new mountain range will form between the two land masses this mountain range may include a mountain taller than mount everest out in space mars will collide with its moon resulting in it developing a ring system like saturn's in 60 million years the canadian and american rockies will have eroded entirely [Music] in 80 million years all hawaiian islands will be below the water [Music] in 100 million years an asteroid similar to the one that killed the dinosaurs 66 million years ago will likely hit earth one that is 10 kilometers wide in 250 million years all of earth's continents will be fused together like pangaea except this time it will be called pangaea ultima but don't get too attached to it because in 400 to 500 million years pangaea ultima will separate again in 500 to 600 million years a gamma ray burst will likely occur within 6 500 light years from earth if it strikes earth it could damage the ozone layer and trigger a mass extinction 600 million years from now the moon will be so far from earth that total solar eclipses will no longer be possible and the sun's increasing luminosity will have raised temperatures on earth so much that it could halt plate tectonics movement in 800 million years carbon dioxide levels will drop dramatically and photosynthesis will no longer be possible free oxygen and ozone will disappear from the atmosphere and complex life on earth will die and finally in 1 billion years the sun's luminosity will have increased by 10 percent and the average temperature on earth will be 47 degrees celsius our atmosphere will feel like a damp greenhouse and our oceans will evaporate leaving just pockets of water at each of the poles [Music] when you arrive here in your time machine be mentally prepared to take in a planet earth that looks nothing like the one you remember the human race will be gone hopefully living its best life on some other far-off planet because of the intense heat lack of water and lack of breathable air earth will be uninhabitable so you probably shouldn't stay too low instead you should head out to see the rest of the solar system maybe you'll find your fellow humans there or some other form of intelligent life but that's a story for another what if you\",\n",
              " 'en')"
            ]
          },
          "metadata": {},
          "execution_count": 8
        }
      ],
      "source": [
        "# Example usage\n",
        "output_pdf_path = \"transcript_output.pdf\"\n",
        "video_link = input(\"Enter Video Link: \")\n",
        "get_transcript(video_link, output_pdf_path)"
      ]
    }
  ]
}