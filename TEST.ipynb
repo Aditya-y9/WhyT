{
 "cells": [
  {
   "cell_type": "code",
   "execution_count": 2,
   "metadata": {},
   "outputs": [
    {
     "name": "stdout",
     "output_type": "stream",
     "text": [
      "Requirement already satisfied: transformers in c:\\users\\mshome\\appdata\\local\\programs\\python\\python310\\lib\\site-packages (4.37.0)\n",
      "Requirement already satisfied: requests in c:\\users\\mshome\\appdata\\roaming\\python\\python310\\site-packages (from transformers) (2.31.0)\n",
      "Requirement already satisfied: safetensors>=0.3.1 in c:\\users\\mshome\\appdata\\local\\programs\\python\\python310\\lib\\site-packages (from transformers) (0.4.1)\n",
      "Requirement already satisfied: packaging>=20.0 in c:\\users\\mshome\\appdata\\roaming\\python\\python310\\site-packages (from transformers) (23.2)\n",
      "Requirement already satisfied: tokenizers<0.19,>=0.14 in c:\\users\\mshome\\appdata\\local\\programs\\python\\python310\\lib\\site-packages (from transformers) (0.15.0)\n",
      "Requirement already satisfied: huggingface-hub<1.0,>=0.19.3 in c:\\users\\mshome\\appdata\\local\\programs\\python\\python310\\lib\\site-packages (from transformers) (0.20.2)\n",
      "Requirement already satisfied: filelock in c:\\users\\mshome\\appdata\\local\\programs\\python\\python310\\lib\\site-packages (from transformers) (3.13.1)\n",
      "Requirement already satisfied: regex!=2019.12.17 in c:\\users\\mshome\\appdata\\local\\programs\\python\\python310\\lib\\site-packages (from transformers) (2023.12.25)\n",
      "Requirement already satisfied: numpy>=1.17 in c:\\users\\mshome\\appdata\\roaming\\python\\python310\\site-packages (from transformers) (1.26.0)\n",
      "Requirement already satisfied: pyyaml>=5.1 in c:\\users\\mshome\\appdata\\local\\programs\\python\\python310\\lib\\site-packages (from transformers) (6.0.1)\n",
      "Requirement already satisfied: tqdm>=4.27 in c:\\users\\mshome\\appdata\\local\\programs\\python\\python310\\lib\\site-packages (from transformers) (4.66.1)\n",
      "Requirement already satisfied: typing-extensions>=3.7.4.3 in c:\\users\\mshome\\appdata\\roaming\\python\\python310\\site-packages (from huggingface-hub<1.0,>=0.19.3->transformers) (4.8.0)\n",
      "Requirement already satisfied: fsspec>=2023.5.0 in c:\\users\\mshome\\appdata\\local\\programs\\python\\python310\\lib\\site-packages (from huggingface-hub<1.0,>=0.19.3->transformers) (2023.10.0)\n",
      "Requirement already satisfied: colorama in c:\\users\\mshome\\appdata\\roaming\\python\\python310\\site-packages (from tqdm>=4.27->transformers) (0.4.6)\n",
      "Requirement already satisfied: certifi>=2017.4.17 in c:\\users\\mshome\\appdata\\roaming\\python\\python310\\site-packages (from requests->transformers) (2023.7.22)\n",
      "Requirement already satisfied: charset-normalizer<4,>=2 in c:\\users\\mshome\\appdata\\roaming\\python\\python310\\site-packages (from requests->transformers) (3.2.0)\n",
      "Requirement already satisfied: idna<4,>=2.5 in c:\\users\\mshome\\appdata\\roaming\\python\\python310\\site-packages (from requests->transformers) (3.4)\n",
      "Requirement already satisfied: urllib3<3,>=1.21.1 in c:\\users\\mshome\\appdata\\roaming\\python\\python310\\site-packages (from requests->transformers) (2.0.4)\n",
      "Note: you may need to restart the kernel to use updated packages.\n"
     ]
    },
    {
     "name": "stderr",
     "output_type": "stream",
     "text": [
      "\n",
      "[notice] A new release of pip available: 22.2.2 -> 23.3.2\n",
      "[notice] To update, run: python.exe -m pip install --upgrade pip\n"
     ]
    }
   ],
   "source": [
    "%pip install transformers"
   ]
  },
  {
   "cell_type": "code",
   "execution_count": 6,
   "metadata": {},
   "outputs": [
    {
     "name": "stdout",
     "output_type": "stream",
     "text": [
      "len30\n",
      "PDF generated successfully at output_pdf.pdf\n"
     ]
    }
   ],
   "source": [
    "from PIL import Image\n",
    "from fpdf import FPDF\n",
    "from moviepy.editor import VideoFileClip\n",
    "from transformers import ViTFeatureExtractor, ViTForImageClassification\n",
    "import torch\n",
    "import os\n",
    "\n",
    "def classify_frames(frames, confidence_threshold=0.985):\n",
    "    # Load the ViT model and feature extractor\n",
    "    feature_extractor = ViTFeatureExtractor.from_pretrained(\"JuanMa360/text-in-image-detection\")\n",
    "    model = ViTForImageClassification.from_pretrained(\"JuanMa360/text-in-image-detection\")\n",
    "\n",
    "    important_frames = []\n",
    "\n",
    "    for i, frame in enumerate(frames):\n",
    "        # Preprocess the image\n",
    "        inputs = feature_extractor(images=frame, return_tensors=\"pt\")\n",
    "\n",
    "        # Perform image classification\n",
    "        outputs = model(**inputs)\n",
    "        logits = outputs.logits\n",
    "\n",
    "        # Get the probability for the 'image_with_text' class\n",
    "        probability = torch.nn.functional.softmax(logits, dim=1)[0, 2].item()\n",
    "\n",
    "        # Check if the probability is above the threshold\n",
    "        if probability > confidence_threshold:\n",
    "            important_frames.append(frame)\n",
    "\n",
    "    return important_frames\n",
    "\n",
    "\n",
    "def extract_frames(video_path, num_frames=5):\n",
    "    clip = VideoFileClip(video_path)\n",
    "    frames = []\n",
    "\n",
    "    frame_interval = max(int(clip.fps * clip.duration) // num_frames, 5)\n",
    "\n",
    "    for i in range(0, int(clip.fps * clip.duration), int(clip.duration)):\n",
    "        frame = clip.get_frame(i / clip.fps)\n",
    "        pil_image = Image.fromarray((frame * 255).astype('uint8'))\n",
    "        frames.append(pil_image)\n",
    "    print(\"len\" + str(len(frames)))\n",
    "    return frames\n",
    "\n",
    "def generate_pdf(frames, output_pdf_path):\n",
    "    pdf = FPDF()\n",
    "    pdf.set_auto_page_break(auto=True, margin=15)\n",
    "    pdf.set_font(\"Arial\", size=12)\n",
    "\n",
    "    for i, frame in enumerate(frames):\n",
    "        image_filename = f\"frame_{i + 1}.png\"\n",
    "        frame.save(image_filename, format='PNG')\n",
    "        pdf.add_page()\n",
    "        pdf.image(image_filename, x=15, y=15, w=180)\n",
    "        os.remove(image_filename)\n",
    "\n",
    "    pdf.output(output_pdf_path)\n",
    "\n",
    "if __name__ == \"__main__\":\n",
    "    video_path = 'video.mp4'\n",
    "    output_pdf_path = 'output_pdf.pdf'\n",
    "\n",
    "    frames = extract_frames(video_path, num_frames=5)\n",
    "    \n",
    "    # Classify frames to select only important ones\n",
    "    \n",
    "    important_frames = classify_frames(frames)\n",
    "\n",
    "    if important_frames:\n",
    "        generate_pdf(important_frames, output_pdf_path)\n",
    "        print(f\"PDF generated successfully at {output_pdf_path}\")\n",
    "    else:\n",
    "        print(\"No important frames found.\")\n"
   ]
  }
 ],
 "metadata": {
  "kernelspec": {
   "display_name": "Python 3",
   "language": "python",
   "name": "python3"
  },
  "language_info": {
   "codemirror_mode": {
    "name": "ipython",
    "version": 3
   },
   "file_extension": ".py",
   "mimetype": "text/x-python",
   "name": "python",
   "nbconvert_exporter": "python",
   "pygments_lexer": "ipython3",
   "version": "3.10.8"
  }
 },
 "nbformat": 4,
 "nbformat_minor": 2
}
