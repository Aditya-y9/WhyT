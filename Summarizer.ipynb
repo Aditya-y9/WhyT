{
  "cells": [
    {
      "cell_type": "code",
      "execution_count": 35,
      "metadata": {
        "id": "YabRAynACJ-z"
      },
      "outputs": [
        {
          "name": "stdout",
          "output_type": "stream",
          "text": [
            "Requirement already satisfied: PyMuPDF in c:\\users\\mshome\\appdata\\local\\programs\\python\\python310\\lib\\site-packages (1.23.17)\n",
            "Requirement already satisfied: PyMuPDFb==1.23.9 in c:\\users\\mshome\\appdata\\local\\programs\\python\\python310\\lib\\site-packages (from PyMuPDF) (1.23.9)\n",
            "Note: you may need to restart the kernel to use updated packages.\n"
          ]
        },
        {
          "name": "stderr",
          "output_type": "stream",
          "text": [
            "\n",
            "[notice] A new release of pip available: 22.2.2 -> 23.3.2\n",
            "[notice] To update, run: python.exe -m pip install --upgrade pip\n"
          ]
        }
      ],
      "source": [
        "%pip install PyMuPDF"
      ]
    },
    {
      "cell_type": "code",
      "execution_count": 36,
      "metadata": {
        "colab": {
          "base_uri": "https://localhost:8080/"
        },
        "id": "a2GCmaWnKj73",
        "outputId": "19d271a8-6770-425f-f227-f3e8bbc960aa"
      },
      "outputs": [
        {
          "name": "stdout",
          "output_type": "stream",
          "text": [
            "Requirement already satisfied: PyMuPDF in c:\\users\\mshome\\appdata\\local\\programs\\python\\python310\\lib\\site-packages (1.23.17)\n",
            "Requirement already satisfied: PyMuPDFb==1.23.9 in c:\\users\\mshome\\appdata\\local\\programs\\python\\python310\\lib\\site-packages (from PyMuPDF) (1.23.9)\n",
            "Note: you may need to restart the kernel to use updated packages.\n"
          ]
        },
        {
          "name": "stderr",
          "output_type": "stream",
          "text": [
            "\n",
            "[notice] A new release of pip available: 22.2.2 -> 23.3.2\n",
            "[notice] To update, run: python.exe -m pip install --upgrade pip\n"
          ]
        }
      ],
      "source": [
        "%pip install --upgrade PyMuPDF\n"
      ]
    },
    {
      "cell_type": "code",
      "execution_count": 37,
      "metadata": {
        "id": "45vCVVJfCWv5"
      },
      "outputs": [],
      "source": [
        "import fitz\n",
        "def extract_text_from_pdf(pdf_path):\n",
        "    text = \"\"\n",
        "    try:\n",
        "        with fitz.open(pdf_path) as doc:\n",
        "            for page_num in range(doc.page_count):\n",
        "                page = doc[page_num]\n",
        "                text += page.get_text()\n",
        "    except Exception as e:\n",
        "        print(f\"Error extracting text: {str(e)}\")\n",
        "    return text\n"
      ]
    },
    {
      "cell_type": "code",
      "execution_count": 38,
      "metadata": {
        "colab": {
          "base_uri": "https://localhost:8080/"
        },
        "id": "5wxo7N16Lb1B",
        "outputId": "00919f56-9d3b-4dba-dd84-54cc34edecb7"
      },
      "outputs": [
        {
          "name": "stdout",
          "output_type": "stream",
          "text": [
            "Requirement already satisfied: transformers in c:\\users\\mshome\\appdata\\local\\programs\\python\\python310\\lib\\site-packages (4.37.0)\n",
            "Requirement already satisfied: huggingface-hub<1.0,>=0.19.3 in c:\\users\\mshome\\appdata\\local\\programs\\python\\python310\\lib\\site-packages (from transformers) (0.20.2)\n",
            "Requirement already satisfied: safetensors>=0.3.1 in c:\\users\\mshome\\appdata\\local\\programs\\python\\python310\\lib\\site-packages (from transformers) (0.4.1)\n",
            "Requirement already satisfied: tokenizers<0.19,>=0.14 in c:\\users\\mshome\\appdata\\local\\programs\\python\\python310\\lib\\site-packages (from transformers) (0.15.0)\n",
            "Requirement already satisfied: pyyaml>=5.1 in c:\\users\\mshome\\appdata\\local\\programs\\python\\python310\\lib\\site-packages (from transformers) (6.0.1)\n",
            "Requirement already satisfied: numpy>=1.17 in c:\\users\\mshome\\appdata\\roaming\\python\\python310\\site-packages (from transformers) (1.26.0)\n",
            "Requirement already satisfied: regex!=2019.12.17 in c:\\users\\mshome\\appdata\\local\\programs\\python\\python310\\lib\\site-packages (from transformers) (2023.12.25)\n",
            "Requirement already satisfied: filelock in c:\\users\\mshome\\appdata\\local\\programs\\python\\python310\\lib\\site-packages (from transformers) (3.13.1)\n",
            "Requirement already satisfied: packaging>=20.0 in c:\\users\\mshome\\appdata\\roaming\\python\\python310\\site-packages (from transformers) (23.2)\n",
            "Requirement already satisfied: requests in c:\\users\\mshome\\appdata\\roaming\\python\\python310\\site-packages (from transformers) (2.31.0)\n",
            "Requirement already satisfied: tqdm>=4.27 in c:\\users\\mshome\\appdata\\local\\programs\\python\\python310\\lib\\site-packages (from transformers) (4.66.1)\n",
            "Requirement already satisfied: fsspec>=2023.5.0 in c:\\users\\mshome\\appdata\\local\\programs\\python\\python310\\lib\\site-packages (from huggingface-hub<1.0,>=0.19.3->transformers) (2023.10.0)\n",
            "Requirement already satisfied: typing-extensions>=3.7.4.3 in c:\\users\\mshome\\appdata\\roaming\\python\\python310\\site-packages (from huggingface-hub<1.0,>=0.19.3->transformers) (4.8.0)\n",
            "Requirement already satisfied: colorama in c:\\users\\mshome\\appdata\\roaming\\python\\python310\\site-packages (from tqdm>=4.27->transformers) (0.4.6)\n",
            "Requirement already satisfied: urllib3<3,>=1.21.1 in c:\\users\\mshome\\appdata\\roaming\\python\\python310\\site-packages (from requests->transformers) (2.0.4)\n",
            "Requirement already satisfied: charset-normalizer<4,>=2 in c:\\users\\mshome\\appdata\\roaming\\python\\python310\\site-packages (from requests->transformers) (3.2.0)\n",
            "Requirement already satisfied: certifi>=2017.4.17 in c:\\users\\mshome\\appdata\\roaming\\python\\python310\\site-packages (from requests->transformers) (2023.7.22)\n",
            "Requirement already satisfied: idna<4,>=2.5 in c:\\users\\mshome\\appdata\\roaming\\python\\python310\\site-packages (from requests->transformers) (3.4)\n",
            "Note: you may need to restart the kernel to use updated packages.\n"
          ]
        },
        {
          "name": "stderr",
          "output_type": "stream",
          "text": [
            "\n",
            "[notice] A new release of pip available: 22.2.2 -> 23.3.2\n",
            "[notice] To update, run: python.exe -m pip install --upgrade pip\n"
          ]
        },
        {
          "name": "stdout",
          "output_type": "stream",
          "text": [
            "Collecting pytorch\n",
            "  Using cached pytorch-1.0.2.tar.gz (689 bytes)\n",
            "  Preparing metadata (setup.py): started\n",
            "  Preparing metadata (setup.py): finished with status 'done'\n",
            "Building wheels for collected packages: pytorch\n",
            "  Building wheel for pytorch (setup.py): started\n",
            "  Building wheel for pytorch (setup.py): finished with status 'error'\n",
            "  Running setup.py clean for pytorch\n",
            "Failed to build pytorch\n",
            "Installing collected packages: pytorch\n",
            "  Running setup.py install for pytorch: started\n",
            "  Running setup.py install for pytorch: finished with status 'error'\n",
            "Note: you may need to restart the kernel to use updated packages.\n"
          ]
        },
        {
          "name": "stderr",
          "output_type": "stream",
          "text": [
            "  error: subprocess-exited-with-error\n",
            "  \n",
            "  × python setup.py bdist_wheel did not run successfully.\n",
            "  │ exit code: 1\n",
            "  ╰─> [6 lines of output]\n",
            "      Traceback (most recent call last):\n",
            "        File \"<string>\", line 2, in <module>\n",
            "        File \"<pip-setuptools-caller>\", line 34, in <module>\n",
            "        File \"C:\\Users\\MSHOME\\AppData\\Local\\Temp\\pip-install-jmuq7i1d\\pytorch_41d5b7c36172469ea4ea1fbe88c21783\\setup.py\", line 15, in <module>\n",
            "          raise Exception(message)\n",
            "      Exception: You tried to install \"pytorch\". The package named for PyTorch is \"torch\"\n",
            "      [end of output]\n",
            "  \n",
            "  note: This error originates from a subprocess, and is likely not a problem with pip.\n",
            "  ERROR: Failed building wheel for pytorch\n",
            "  error: subprocess-exited-with-error\n",
            "  \n",
            "  × Running setup.py install for pytorch did not run successfully.\n",
            "  │ exit code: 1\n",
            "  ╰─> [6 lines of output]\n",
            "      Traceback (most recent call last):\n",
            "        File \"<string>\", line 2, in <module>\n",
            "        File \"<pip-setuptools-caller>\", line 34, in <module>\n",
            "        File \"C:\\Users\\MSHOME\\AppData\\Local\\Temp\\pip-install-jmuq7i1d\\pytorch_41d5b7c36172469ea4ea1fbe88c21783\\setup.py\", line 11, in <module>\n",
            "          raise Exception(message)\n",
            "      Exception: You tried to install \"pytorch\". The package named for PyTorch is \"torch\"\n",
            "      [end of output]\n",
            "  \n",
            "  note: This error originates from a subprocess, and is likely not a problem with pip.\n",
            "error: legacy-install-failure\n",
            "\n",
            "× Encountered error while trying to install package.\n",
            "╰─> pytorch\n",
            "\n",
            "note: This is an issue with the package mentioned above, not pip.\n",
            "hint: See above for output from the failure.\n",
            "\n",
            "[notice] A new release of pip available: 22.2.2 -> 23.3.2\n",
            "[notice] To update, run: python.exe -m pip install --upgrade pip\n"
          ]
        }
      ],
      "source": [
        "%pip install transformers\n",
        "%pip install pytorch"
      ]
    },
    {
      "cell_type": "code",
      "execution_count": 39,
      "metadata": {
        "id": "eFrLwpYyIUwH"
      },
      "outputs": [],
      "source": [
        "from transformers import BartTokenizer, BartForConditionalGeneration"
      ]
    },
    {
      "cell_type": "code",
      "execution_count": 40,
      "metadata": {
        "colab": {
          "base_uri": "https://localhost:8080/"
        },
        "id": "CX3faaz4OaBn",
        "outputId": "30f9a314-f2db-4cdb-981e-8b543936d7e2"
      },
      "outputs": [],
      "source": [
        "tokenizer = BartTokenizer.from_pretrained(\"facebook/bart-large-cnn\")\n",
        "\n",
        "# Load model\n",
        "model = BartForConditionalGeneration.from_pretrained(\"facebook/bart-large-cnn\")"
      ]
    },
    {
      "cell_type": "code",
      "execution_count": 41,
      "metadata": {
        "id": "d9WieJw7IXgC"
      },
      "outputs": [],
      "source": [
        "def generate_summary_t5(text, tokenizer,model):\n",
        "    # Load T5 model and tokenizer\n",
        "    # Tokenize and generate summary\n",
        "    inputs = tokenizer.encode(\"summarize: \" + text, return_tensors=\"pt\", max_length=1024, truncation=True)\n",
        "    summary_ids = model.generate(inputs, max_length=250, min_length=100, length_penalty=1.0, num_beams=4, early_stopping=True)\n",
        "\n",
        "    # Decode and return the generated summary\n",
        "    summary = tokenizer.decode(summary_ids[0], skip_special_tokens=True)\n",
        "    return summary\n"
      ]
    },
    {
      "cell_type": "code",
      "execution_count": 42,
      "metadata": {
        "colab": {
          "base_uri": "https://localhost:8080/",
          "height": 139
        },
        "id": "GZk16lYCIVeR",
        "outputId": "f8c342d4-e12b-461b-b77c-1d6e53f289e6"
      },
      "outputs": [
        {
          "data": {
            "text/plain": [
              "\"Language Code: en\\nif you traveled 10 000 years into the future what would planet earth look like would most of its\\nsurface be covered in volcanoes or would it be frozen in ice what if you traveled even further to one\\nmillion years in the future would all of the oceans have evaporated or would it have become one\\ngiant water world okay now what about 1 billion years would there be any humans left or would they\\nhave settled in other parts of the galaxy this is what if and here's what would happen if you traveled\\n1 billion years into the future let's face it the chances of any humans being around to greet you when\\nyou arrive 1 billion years into the future are pretty low several key existential threats face the human\\nrace and if we want to be around in one billion years we'll need to endure them all we've seen how\\nmuch we've struggled to come together just to survive a global pandemic so how do we have any\\nchance of enduring the threats of climate change overpopulation global nuclear war killer asteroids\\nand comets natural ice ages and the sun getting a whole lot hotter well let's take a look into the\\nfuture and find out just under ten thousand years from now we're going to run into a big problem\\ncalled the deca millennium bug in the year ten thousand ad software encoding the ad calendar year\\nwon't encode dates with more than four decimals remember y2k yeah it's just like that except\\nhopefully we won't panic as much this time around on the bright side in 10 000 years genetic\\ndifferences and traits between humans will no longer be regional traits like skin and hair color will be\\nevenly distributed around the world maybe that will help us all get along finally twenty thousand\\nyears into the future none of the current languages will be recognizable future languages will only\\ncontain one percent of the core vocabulary words of their present day counterparts fifty thousand\\nyears from now will mark a new glacial period for the earth which will start a new ice age niagara\\nfalls will have eroded into lake erie completely and interestingly a full day on earth will also increase\\nby one second at this point in time so much more time for activities in 250 000 years the loihi\\nvolcano will rise above the water to form a new island in hawaii and in 500 000 years it's likely that\\nan asteroid with a diameter greater than one kilometer will hit earth unless we can prevent it the\\nresulting crater will be no less than 400 kilometers across it will start fires all over the planet and\\nmake the air unbreathable so there's something to look forward to and in case that's not enough in 1\\nmillion years we'll likely have another super volcano eruption large enough to spew out 3 200 cubic\\nkilometers of ash it would produce enough lava to fill 75 of the grand canyon this would be similar to\\nthe toba eruption that almost wiped out humanity 70 000 years ago oh and the nearby star\\nbeetlejuice will have exploded into a supernova by this time making it visible from earth even during\\nthe daytime in 2 million a.d humanity will have settlements throughout the solar system this also\\nmeans that if populations on different planets have remained separate humans may have evolved\\ninto other species adapted to their specific world in 10 million years a huge part of eastern africa will\\nbreak off forming a new ocean basin [Music] in 50 million years africa will collide with eurasia closing\\noff the mediterranean sea and a new mountain range will form between the two land masses this\\nmountain range may include a mountain taller than mount everest out in space mars will collide with\\nits moon resulting in it developing a ring system like saturn's in 60 million years the canadian and\\namerican rockies will have eroded entirely [Music] in 80 million years all hawaiian islands will be\\nbelow the water [Music] in 100 million years an asteroid similar to the one that killed the dinosaurs\\n66 million years ago will likely hit earth one that is 10 kilometers wide in 250 million years all of\\nearth's continents will be fused together like pangaea except this time it will be called pangaea\\nultima but don't get too attached to it because in 400 to 500 million years pangaea ultima will\\nseparate again in 500 to 600 million years a gamma ray burst will likely occur within 6 500 light\\nyears from earth if it strikes earth it could damage the ozone layer and trigger a mass extinction 600\\nmillion years from now the moon will be so far from earth that total solar eclipses will no longer be\\npossible and the sun's increasing luminosity will have raised temperatures on earth so much that it\\ncould halt plate tectonics movement in 800 million years carbon dioxide levels will drop dramatically\\nand photosynthesis will no longer be possible free oxygen and ozone will disappear from the\\natmosphere and complex life on earth will die and finally in 1 billion years the sun's luminosity will\\nhave increased by 10 percent and the average temperature on earth will be 47 degrees celsius our\\natmosphere will feel like a damp greenhouse and our oceans will evaporate leaving just pockets of\\nwater at each of the poles [Music] when you arrive here in your time machine be mentally prepared\\nto take in a planet earth that looks nothing like the one you remember the human race will be gone\\nhopefully living its best life on some other far-off planet because of the intense heat lack of water\\nand lack of breathable air earth will be uninhabitable so you probably shouldn't stay too low instead\\nyou should head out to see the rest of the solar system maybe you'll find your fellow humans there\\nor some other form of intelligent life but that's a story for another what if you\\n\""
            ]
          },
          "execution_count": 42,
          "metadata": {},
          "output_type": "execute_result"
        }
      ],
      "source": [
        "text = extract_text_from_pdf(r\"C:\\Users\\MSHOME\\Desktop\\Newfolder\\temp\\inheritance-project\\transcript_output.pdf\")\n",
        "text"
      ]
    },
    {
      "cell_type": "code",
      "execution_count": 43,
      "metadata": {
        "colab": {
          "base_uri": "https://localhost:8080/",
          "height": 193
        },
        "id": "gFZbprAJLkgL",
        "outputId": "a584aa9d-799e-460a-e511-54ab503ada29"
      },
      "outputs": [
        {
          "data": {
            "text/plain": [
              "\"If you traveled 10 000 years into the future what would planet earth look like would most of its surface be covered in volcanoes or would it be frozen in ice? What about 1 billion years would there be any humans left or would they have settled in other parts of the galaxy? What if the sun's increasing luminosity will have raised temperatures on earth so much that it could halt plate tectonics in 800 million years and life on earth will die. What if a gamma ray burst from the sun could damage the ozone layer and trigger mass extinction and trigger a mass extinction.\""
            ]
          },
          "execution_count": 43,
          "metadata": {},
          "output_type": "execute_result"
        }
      ],
      "source": [
        "summary = generate_summary_t5(text,tokenizer,model)\n",
        "summary"
      ]
    },
    {
      "cell_type": "markdown",
      "metadata": {
        "id": "txA09OvLDWjO"
      },
      "source": [
        "# ROUGE Metric"
      ]
    },
    {
      "cell_type": "code",
      "execution_count": 44,
      "metadata": {
        "id": "f7fIXBDVDUV5"
      },
      "outputs": [
        {
          "name": "stdout",
          "output_type": "stream",
          "text": [
            "Requirement already satisfied: rouge in c:\\users\\mshome\\appdata\\local\\programs\\python\\python310\\lib\\site-packages (1.0.1)\n",
            "Requirement already satisfied: six in c:\\users\\mshome\\appdata\\roaming\\python\\python310\\site-packages (from rouge) (1.16.0)\n",
            "Note: you may need to restart the kernel to use updated packages.\n"
          ]
        },
        {
          "name": "stderr",
          "output_type": "stream",
          "text": [
            "\n",
            "[notice] A new release of pip available: 22.2.2 -> 23.3.2\n",
            "[notice] To update, run: python.exe -m pip install --upgrade pip\n"
          ]
        }
      ],
      "source": [
        "%pip install rouge"
      ]
    },
    {
      "cell_type": "code",
      "execution_count": 45,
      "metadata": {
        "id": "_BEkgZmiDOzB"
      },
      "outputs": [],
      "source": [
        "from rouge import Rouge"
      ]
    },
    {
      "cell_type": "code",
      "execution_count": 46,
      "metadata": {
        "id": "KaC102UiDT3J"
      },
      "outputs": [
        {
          "name": "stdout",
          "output_type": "stream",
          "text": [
            "[{'rouge-1': {'r': 0.1547085201793722, 'p': 0.9452054794520548, 'f': 0.2658959513398006}, 'rouge-2': {'r': 0.09551208285385501, 'p': 0.83, 'f': 0.1713106276639818}, 'rouge-l': {'r': 0.15246636771300448, 'p': 0.9315068493150684, 'f': 0.26204238679259434}}]\n"
          ]
        }
      ],
      "source": [
        "# Your summaries and text\n",
        "# Create Rouge object\n",
        "rouge = Rouge()\n",
        "\n",
        "# Calculate ROUGE scores\n",
        "scores = rouge.get_scores(summary, text)\n",
        "\n",
        "# Print ROUGE scores\n",
        "print(scores)"
      ]
    },
    {
      "cell_type": "code",
      "execution_count": 47,
      "metadata": {
        "id": "g573K5H0Dv8Q"
      },
      "outputs": [],
      "source": [
        "def calculate_rouge_score(reference, hypothesis):\n",
        "    rouge = Rouge()\n",
        "    scores = rouge.get_scores(hypothesis, reference)\n",
        "    rouge_f1 = scores[0]['rouge-1']['p']\n",
        "    return rouge_f1"
      ]
    },
    {
      "cell_type": "code",
      "execution_count": 48,
      "metadata": {
        "id": "6B-Wq_cgD7tt"
      },
      "outputs": [
        {
          "name": "stdout",
          "output_type": "stream",
          "text": [
            "ROUGE-N Precision Score: 0.9452054794520548\n"
          ]
        }
      ],
      "source": [
        "rouge_score = calculate_rouge_score(text, summary)\n",
        "print(f\"ROUGE-N Precision Score: {rouge_score}\")"
      ]
    }
  ],
  "metadata": {
    "colab": {
      "provenance": []
    },
    "kernelspec": {
      "display_name": "Python 3",
      "name": "python3"
    },
    "language_info": {
      "codemirror_mode": {
        "name": "ipython",
        "version": 3
      },
      "file_extension": ".py",
      "mimetype": "text/x-python",
      "name": "python",
      "nbconvert_exporter": "python",
      "pygments_lexer": "ipython3",
      "version": "3.10.8"
    }
  },
  "nbformat": 4,
  "nbformat_minor": 0
}
