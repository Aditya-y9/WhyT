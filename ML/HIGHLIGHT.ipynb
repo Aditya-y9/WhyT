{
 "cells": [
  {
   "cell_type": "code",
   "execution_count": 6,
   "metadata": {},
   "outputs": [
    {
     "name": "stdout",
     "output_type": "stream",
     "text": [
      "Requirement already satisfied: transformers in c:\\users\\mshome\\appdata\\local\\programs\\python\\python310\\lib\\site-packages (4.37.0)\n",
      "Requirement already satisfied: torch in c:\\users\\mshome\\appdata\\local\\programs\\python\\python310\\lib\\site-packages (2.1.2)\n",
      "Requirement already satisfied: pymupdf in c:\\users\\mshome\\appdata\\local\\programs\\python\\python310\\lib\\site-packages (1.23.18)\n",
      "Requirement already satisfied: pyyaml>=5.1 in c:\\users\\mshome\\appdata\\local\\programs\\python\\python310\\lib\\site-packages (from transformers) (6.0.1)\n",
      "Requirement already satisfied: safetensors>=0.3.1 in c:\\users\\mshome\\appdata\\local\\programs\\python\\python310\\lib\\site-packages (from transformers) (0.4.1)\n",
      "Requirement already satisfied: tokenizers<0.19,>=0.14 in c:\\users\\mshome\\appdata\\local\\programs\\python\\python310\\lib\\site-packages (from transformers) (0.15.0)\n",
      "Requirement already satisfied: tqdm>=4.27 in c:\\users\\mshome\\appdata\\local\\programs\\python\\python310\\lib\\site-packages (from transformers) (4.66.1)\n",
      "Requirement already satisfied: packaging>=20.0 in c:\\users\\mshome\\appdata\\roaming\\python\\python310\\site-packages (from transformers) (23.2)\n",
      "Requirement already satisfied: requests in c:\\users\\mshome\\appdata\\roaming\\python\\python310\\site-packages (from transformers) (2.31.0)\n",
      "Requirement already satisfied: numpy>=1.17 in c:\\users\\mshome\\appdata\\roaming\\python\\python310\\site-packages (from transformers) (1.26.0)\n",
      "Requirement already satisfied: filelock in c:\\users\\mshome\\appdata\\local\\programs\\python\\python310\\lib\\site-packages (from transformers) (3.13.1)\n",
      "Requirement already satisfied: huggingface-hub<1.0,>=0.19.3 in c:\\users\\mshome\\appdata\\local\\programs\\python\\python310\\lib\\site-packages (from transformers) (0.20.2)\n",
      "Requirement already satisfied: regex!=2019.12.17 in c:\\users\\mshome\\appdata\\local\\programs\\python\\python310\\lib\\site-packages (from transformers) (2023.12.25)\n",
      "Requirement already satisfied: fsspec in c:\\users\\mshome\\appdata\\local\\programs\\python\\python310\\lib\\site-packages (from torch) (2023.10.0)\n",
      "Requirement already satisfied: sympy in c:\\users\\mshome\\appdata\\local\\programs\\python\\python310\\lib\\site-packages (from torch) (1.12)\n",
      "Requirement already satisfied: networkx in c:\\users\\mshome\\appdata\\local\\programs\\python\\python310\\lib\\site-packages (from torch) (3.2.1)\n",
      "Requirement already satisfied: jinja2 in c:\\users\\mshome\\appdata\\local\\programs\\python\\python310\\lib\\site-packages (from torch) (3.1.2)\n",
      "Requirement already satisfied: typing-extensions in c:\\users\\mshome\\appdata\\roaming\\python\\python310\\site-packages (from torch) (4.8.0)\n",
      "Requirement already satisfied: PyMuPDFb==1.23.9 in c:\\users\\mshome\\appdata\\local\\programs\\python\\python310\\lib\\site-packages (from pymupdf) (1.23.9)\n",
      "Requirement already satisfied: colorama in c:\\users\\mshome\\appdata\\roaming\\python\\python310\\site-packages (from tqdm>=4.27->transformers) (0.4.6)\n",
      "Requirement already satisfied: MarkupSafe>=2.0 in c:\\users\\mshome\\appdata\\roaming\\python\\python310\\site-packages (from jinja2->torch) (2.1.3)\n",
      "Requirement already satisfied: idna<4,>=2.5 in c:\\users\\mshome\\appdata\\roaming\\python\\python310\\site-packages (from requests->transformers) (3.4)\n",
      "Requirement already satisfied: certifi>=2017.4.17 in c:\\users\\mshome\\appdata\\roaming\\python\\python310\\site-packages (from requests->transformers) (2023.7.22)\n",
      "Requirement already satisfied: charset-normalizer<4,>=2 in c:\\users\\mshome\\appdata\\roaming\\python\\python310\\site-packages (from requests->transformers) (3.2.0)\n",
      "Requirement already satisfied: urllib3<3,>=1.21.1 in c:\\users\\mshome\\appdata\\roaming\\python\\python310\\site-packages (from requests->transformers) (2.0.4)\n",
      "Requirement already satisfied: mpmath>=0.19 in c:\\users\\mshome\\appdata\\local\\programs\\python\\python310\\lib\\site-packages (from sympy->torch) (1.3.0)\n",
      "Note: you may need to restart the kernel to use updated packages.\n"
     ]
    },
    {
     "name": "stderr",
     "output_type": "stream",
     "text": [
      "\n",
      "[notice] A new release of pip available: 22.2.2 -> 23.3.2\n",
      "[notice] To update, run: python.exe -m pip install --upgrade pip\n"
     ]
    }
   ],
   "source": [
    "%pip install transformers torch pymupdf"
   ]
  },
  {
   "cell_type": "code",
   "execution_count": 7,
   "metadata": {},
   "outputs": [
    {
     "name": "stderr",
     "output_type": "stream",
     "text": [
      "c:\\Users\\MSHOME\\AppData\\Local\\Programs\\Python\\Python310\\lib\\site-packages\\tqdm\\auto.py:21: TqdmWarning: IProgress not found. Please update jupyter and ipywidgets. See https://ipywidgets.readthedocs.io/en/stable/user_install.html\n",
      "  from .autonotebook import tqdm as notebook_tqdm\n",
      "Some weights of the model checkpoint at dbmdz/bert-large-cased-finetuned-conll03-english were not used when initializing BertForTokenClassification: ['bert.pooler.dense.bias', 'bert.pooler.dense.weight']\n",
      "- This IS expected if you are initializing BertForTokenClassification from the checkpoint of a model trained on another task or with another architecture (e.g. initializing a BertForSequenceClassification model from a BertForPreTraining model).\n",
      "- This IS NOT expected if you are initializing BertForTokenClassification from the checkpoint of a model that you expect to be exactly identical (initializing a BertForSequenceClassification model from a BertForSequenceClassification model).\n",
      "tokenizer_config.json: 100%|██████████| 60.0/60.0 [00:00<?, ?B/s]\n",
      "c:\\Users\\MSHOME\\AppData\\Local\\Programs\\Python\\Python310\\lib\\site-packages\\huggingface_hub\\file_download.py:149: UserWarning: `huggingface_hub` cache-system uses symlinks by default to efficiently store duplicated files but your machine does not support them in C:\\Users\\MSHOME\\.cache\\huggingface\\hub\\models--dbmdz--bert-large-cased-finetuned-conll03-english. Caching files will still work but in a degraded version that might require more space on your disk. This warning can be disabled by setting the `HF_HUB_DISABLE_SYMLINKS_WARNING` environment variable. For more details, see https://huggingface.co/docs/huggingface_hub/how-to-cache#limitations.\n",
      "To support symlinks on Windows, you either need to activate Developer Mode or to run Python as an administrator. In order to see activate developer mode, see this article: https://docs.microsoft.com/en-us/windows/apps/get-started/enable-your-device-for-development\n",
      "  warnings.warn(message)\n",
      "vocab.txt: 100%|██████████| 213k/213k [00:00<00:00, 554kB/s]\n"
     ]
    }
   ],
   "source": [
    "from transformers import pipeline\n",
    "\n",
    "ner_pipeline = pipeline(\"ner\", model=\"dbmdz/bert-large-cased-finetuned-conll03-english\")"
   ]
  },
  {
   "cell_type": "code",
   "execution_count": 17,
   "metadata": {},
   "outputs": [],
   "source": [
    "import fitz\n",
    "def extract_text_from_pdf(pdf_path):\n",
    "    text = \"\"\n",
    "    try:\n",
    "        with fitz.open(pdf_path) as doc:\n",
    "            for page_num in range(doc.page_count):\n",
    "                page = doc[page_num]\n",
    "                text += page.get_text()\n",
    "    except Exception as e:\n",
    "        print(f\"Error extracting text: {str(e)}\")\n",
    "    return text\n"
   ]
  },
  {
   "cell_type": "code",
   "execution_count": 22,
   "metadata": {},
   "outputs": [],
   "source": [
    "def extract_important_words(text):\n",
    "    results = ner_pipeline(text)\n",
    "    print(\"NER Results:\", results)\n",
    "    important_words = [result[\"word\"] for result in results]\n",
    "    return important_words\n",
    "\n"
   ]
  },
  {
   "cell_type": "code",
   "execution_count": 11,
   "metadata": {},
   "outputs": [],
   "source": [
    "def highlight_words_in_pdf(pdf_path, important_words):\n",
    "    doc = fitz.open(pdf_path)\n",
    "    for page_num in range(doc.page_count):\n",
    "        page = doc[page_num]\n",
    "        for word in important_words:\n",
    "            occurrences = page.search_for(word)\n",
    "            for rect in occurrences:\n",
    "                highlight = page.add_highlight_annot(rect)\n",
    "                highlight.set_color(color=(1, 1, 0))  # Yellow color\n",
    "    doc.save(\"highlighted_output.pdf\")\n",
    "    doc.close()\n"
   ]
  },
  {
   "cell_type": "code",
   "execution_count": 23,
   "metadata": {},
   "outputs": [
    {
     "name": "stdout",
     "output_type": "stream",
     "text": [
      "Language Code: en\n",
      "if you traveled 10 000 years into the future what would planet earth look like would most of its\n",
      "surface be covered in volcanoes or would it be frozen in ice what if you traveled even further to one\n",
      "million years in the future would all of the oceans have evaporated or would it have become one\n",
      "giant water world okay now what about 1 billion years would there be any humans left or would they\n",
      "have settled in other parts of the galaxy this is what if and here's what would happen if you traveled\n",
      "1 billion years into the future let's face it the chances of any humans being around to greet you when\n",
      "you arrive 1 billion years into the future are pretty low several key existential threats face the human\n",
      "race and if we want to be around in one billion years we'll need to endure them all we've seen how\n",
      "much we've struggled to come together just to survive a global pandemic so how do we have any\n",
      "chance of enduring the threats of climate change overpopulation global nuclear war killer asteroids\n",
      "and comets natural ice ages and the sun getting a whole lot hotter well let's take a look into the\n",
      "future and find out just under ten thousand years from now we're going to run into a big problem\n",
      "called the deca millennium bug in the year ten thousand ad software encoding the ad calendar year\n",
      "won't encode dates with more than four decimals remember y2k yeah it's just like that except\n",
      "hopefully we won't panic as much this time around on the bright side in 10 000 years genetic\n",
      "differences and traits between humans will no longer be regional traits like skin and hair color will be\n",
      "evenly distributed around the world maybe that will help us all get along finally twenty thousand\n",
      "years into the future none of the current languages will be recognizable future languages will only\n",
      "contain one percent of the core vocabulary words of their present day counterparts fifty thousand\n",
      "years from now will mark a new glacial period for the earth which will start a new ice age niagara\n",
      "falls will have eroded into lake erie completely and interestingly a full day on earth will also increase\n",
      "by one second at this point in time so much more time for activities in 250 000 years the loihi\n",
      "volcano will rise above the water to form a new island in hawaii and in 500 000 years it's likely that\n",
      "an asteroid with a diameter greater than one kilometer will hit earth unless we can prevent it the\n",
      "resulting crater will be no less than 400 kilometers across it will start fires all over the planet and\n",
      "make the air unbreathable so there's something to look forward to and in case that's not enough in 1\n",
      "million years we'll likely have another super volcano eruption large enough to spew out 3 200 cubic\n",
      "kilometers of ash it would produce enough lava to fill 75 of the grand canyon this would be similar to\n",
      "the toba eruption that almost wiped out humanity 70 000 years ago oh and the nearby star\n",
      "beetlejuice will have exploded into a supernova by this time making it visible from earth even during\n",
      "the daytime in 2 million a.d humanity will have settlements throughout the solar system this also\n",
      "means that if populations on different planets have remained separate humans may have evolved\n",
      "into other species adapted to their specific world in 10 million years a huge part of eastern africa will\n",
      "break off forming a new ocean basin [Music] in 50 million years africa will collide with eurasia closing\n",
      "off the mediterranean sea and a new mountain range will form between the two land masses this\n",
      "mountain range may include a mountain taller than mount everest out in space mars will collide with\n",
      "its moon resulting in it developing a ring system like saturn's in 60 million years the canadian and\n",
      "american rockies will have eroded entirely [Music] in 80 million years all hawaiian islands will be\n",
      "below the water [Music] in 100 million years an asteroid similar to the one that killed the dinosaurs\n",
      "66 million years ago will likely hit earth one that is 10 kilometers wide in 250 million years all of\n",
      "earth's continents will be fused together like pangaea except this time it will be called pangaea\n",
      "ultima but don't get too attached to it because in 400 to 500 million years pangaea ultima will\n",
      "separate again in 500 to 600 million years a gamma ray burst will likely occur within 6 500 light\n",
      "years from earth if it strikes earth it could damage the ozone layer and trigger a mass extinction 600\n",
      "million years from now the moon will be so far from earth that total solar eclipses will no longer be\n",
      "possible and the sun's increasing luminosity will have raised temperatures on earth so much that it\n",
      "could halt plate tectonics movement in 800 million years carbon dioxide levels will drop dramatically\n",
      "and photosynthesis will no longer be possible free oxygen and ozone will disappear from the\n",
      "atmosphere and complex life on earth will die and finally in 1 billion years the sun's luminosity will\n",
      "have increased by 10 percent and the average temperature on earth will be 47 degrees celsius our\n",
      "atmosphere will feel like a damp greenhouse and our oceans will evaporate leaving just pockets of\n",
      "water at each of the poles [Music] when you arrive here in your time machine be mentally prepared\n",
      "to take in a planet earth that looks nothing like the one you remember the human race will be gone\n",
      "hopefully living its best life on some other far-off planet because of the intense heat lack of water\n",
      "and lack of breathable air earth will be uninhabitable so you probably shouldn't stay too low instead\n",
      "you should head out to see the rest of the solar system maybe you'll find your fellow humans there\n",
      "or some other form of intelligent life but that's a story for another what if you\n",
      "\n",
      "NER Results: []\n",
      "[]\n"
     ]
    }
   ],
   "source": [
    "pdf_path = r\"C:\\Users\\MSHOME\\Desktop\\Newfolder\\temp\\inheritance-project\\transcript_output.pdf\"\n",
    "\n",
    "text = extract_text_from_pdf(pdf_path)\n",
    "print(text)\n",
    "important_words = extract_important_words(text)\n",
    "print(important_words)\n",
    "highlight_words_in_pdf(pdf_path, important_words)"
   ]
  }
 ],
 "metadata": {
  "kernelspec": {
   "display_name": "Python 3",
   "language": "python",
   "name": "python3"
  },
  "language_info": {
   "codemirror_mode": {
    "name": "ipython",
    "version": 3
   },
   "file_extension": ".py",
   "mimetype": "text/x-python",
   "name": "python",
   "nbconvert_exporter": "python",
   "pygments_lexer": "ipython3",
   "version": "3.10.8"
  }
 },
 "nbformat": 4,
 "nbformat_minor": 2
}
