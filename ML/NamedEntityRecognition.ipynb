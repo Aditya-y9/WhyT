{
  "cells": [
    {
      "cell_type": "markdown",
      "metadata": {
        "colab_type": "text",
        "id": "view-in-github"
      },
      "source": [
        "<a href=\"https://colab.research.google.com/github/Aditya-y9/inheritance-project/blob/main/NamedEntityRecognition.ipynb\" target=\"_parent\"><img src=\"https://colab.research.google.com/assets/colab-badge.svg\" alt=\"Open In Colab\"/></a>"
      ]
    },
    {
      "cell_type": "code",
      "execution_count": null,
      "metadata": {
        "colab": {
          "base_uri": "https://localhost:8080/"
        },
        "id": "r0gwRM1UiDM3",
        "outputId": "2f08a4f6-4667-456f-9a45-2e39e86d933c"
      },
      "outputs": [],
      "source": [
        "%pip install PyMuPDF\n",
        "%pip install spacy\n",
        "%python -m spacy download en_core_web_sm"
      ]
    },
    {
      "cell_type": "code",
      "execution_count": null,
      "metadata": {},
      "outputs": [],
      "source": [
        "%pip install --upgrade PyMuPDF"
      ]
    },
    {
      "cell_type": "code",
      "execution_count": 4,
      "metadata": {
        "id": "AaG2c57dlFLv"
      },
      "outputs": [],
      "source": [
        "import fitz\n",
        "import spacy"
      ]
    },
    {
      "cell_type": "code",
      "execution_count": 5,
      "metadata": {
        "id": "_Dw10j8qlN-5"
      },
      "outputs": [
        {
          "name": "stdout",
          "output_type": "stream",
          "text": [
            "\u001b[38;5;2m✔ Download and installation successful\u001b[0m\n",
            "You can now load the package via spacy.load('en_core_web_sm')\n"
          ]
        }
      ],
      "source": [
        "spacy.cli.download(\"en_core_web_sm\")\n",
        "nlp = spacy.load('en_core_web_sm')"
      ]
    },
    {
      "cell_type": "code",
      "execution_count": 6,
      "metadata": {
        "id": "hMG7_af8lRic"
      },
      "outputs": [],
      "source": [
        "def extract_text_from_pdf(pdf_path):\n",
        "    text = \"\"\n",
        "    try:\n",
        "        with fitz.open(pdf_path) as doc:\n",
        "            for page_num in range(doc.page_count):\n",
        "                page = doc[page_num]\n",
        "                text += page.get_text()\n",
        "    except Exception as e:\n",
        "        print(f\"Error extracting text: {str(e)}\")\n",
        "    return text"
      ]
    },
    {
      "cell_type": "code",
      "execution_count": 7,
      "metadata": {
        "id": "jG_Deu3MlSwI"
      },
      "outputs": [],
      "source": [
        "def perform_ner(video_transcript_path):\n",
        "\n",
        "    transcript_text = extract_text_from_pdf(video_transcript_path)\n",
        "\n",
        "    ner_words = []\n",
        "    doc = nlp(transcript_text)\n",
        "\n",
        "\n",
        "    for ent in doc.ents:\n",
        "        print(f\"Entity: {ent.text}, Label: {ent.label_}\")\n",
        "        ner_words.append(ent.text)\n",
        "\n",
        "    return ner_words"
      ]
    },
    {
      "cell_type": "code",
      "execution_count": 13,
      "metadata": {
        "colab": {
          "base_uri": "https://localhost:8080/"
        },
        "id": "MEUjgnRxlVxJ",
        "outputId": "6674d108-6caf-40d5-b4ac-42b4b56f2c3f"
      },
      "outputs": [
        {
          "name": "stdout",
          "output_type": "stream",
          "text": [
            "Entity: 10 000 years, Label: DATE\n",
            "Entity: one, Label: CARDINAL\n",
            "Entity: one, Label: CARDINAL\n",
            "Entity: about 1 billion years, Label: DATE\n",
            "Entity: 1 billion years, Label: DATE\n",
            "Entity: 1 billion years, Label: DATE\n",
            "Entity: one billion years, Label: DATE\n",
            "Entity: just under, Label: CARDINAL\n",
            "Entity: ten thousand years, Label: DATE\n",
            "Entity: the year ten thousand, Label: DATE\n",
            "Entity: more than four, Label: CARDINAL\n",
            "Entity: 10 000 years, Label: DATE\n",
            "Entity: twenty thousand\n",
            "years, Label: CARDINAL\n",
            "Entity: one percent, Label: PERCENT\n",
            "Entity: fifty thousand\n",
            "years from now, Label: DATE\n",
            "Entity: niagara, Label: PERSON\n",
            "Entity: a full day, Label: DATE\n",
            "Entity: one second, Label: TIME\n",
            "Entity: 250 000 years, Label: DATE\n",
            "Entity: hawaii, Label: GPE\n",
            "Entity: 500 000 years, Label: DATE\n",
            "Entity: no less than, Label: CARDINAL\n",
            "Entity: 400 kilometers, Label: QUANTITY\n",
            "Entity: 1\n",
            "million years, Label: DATE\n",
            "Entity: 3 200 cubic\n",
            "kilometers, Label: QUANTITY\n",
            "Entity: 75, Label: CARDINAL\n",
            "Entity: 70 000 years ago, Label: DATE\n",
            "Entity: 2 million, Label: CARDINAL\n",
            "Entity: 10 million years, Label: DATE\n",
            "Entity: eastern africa, Label: GPE\n",
            "Entity: 50 million years africa, Label: DATE\n",
            "Entity: eurasia, Label: PERSON\n",
            "Entity: the mediterranean sea, Label: LOC\n",
            "Entity: two, Label: CARDINAL\n",
            "Entity: mount everest, Label: LOC\n",
            "Entity: 60 million years, Label: DATE\n",
            "Entity: canadian, Label: NORP\n",
            "Entity: american, Label: NORP\n",
            "Entity: 80 million years, Label: DATE\n",
            "Entity: hawaiian, Label: NORP\n",
            "Entity: 100 million years, Label: DATE\n",
            "Entity: 66 million years ago, Label: DATE\n",
            "Entity: 10 kilometers, Label: QUANTITY\n",
            "Entity: 250 million years, Label: DATE\n",
            "Entity: earth, Label: LOC\n",
            "Entity: 400 to 500 million, Label: MONEY\n",
            "Entity: 500 to 600 million, Label: MONEY\n",
            "Entity: 6 500 light\n",
            "years, Label: QUANTITY\n",
            "Entity: 600\n",
            "million, Label: MONEY\n",
            "Entity: 800 million years, Label: DATE\n",
            "Entity: 1 billion years, Label: DATE\n",
            "Entity: 10 percent, Label: PERCENT\n",
            "Entity: 47 degrees, Label: QUANTITY\n"
          ]
        }
      ],
      "source": [
        "pdf_path = r\"C:\\Users\\MSHOME\\Desktop\\Newfolder\\temp\\inheritance-project\\transcript_output.pdf\"\n",
        "words = perform_ner(pdf_path)"
      ]
    },
    {
      "cell_type": "code",
      "execution_count": 18,
      "metadata": {},
      "outputs": [],
      "source": [
        "def highlight_words_in_pdf(pdf_path, important_words):\n",
        "    doc = fitz.open(pdf_path)\n",
        "    \n",
        "    for page_num in range(doc.page_count):\n",
        "        page = doc[page_num]\n",
        "        \n",
        "        for word in important_words:\n",
        "            occurrences = page.search_for(word)\n",
        "            \n",
        "            for rect in occurrences:\n",
        "                highlight = page.add_highlight_annot(rect)\n",
        "                highlight.set_colors(fill=(1, 1, 0))\n",
        "                highlight.update() \n",
        "                \n",
        "    doc.save(\"highlighted_output.pdf\")\n",
        "    doc.close()"
      ]
    },
    {
      "cell_type": "code",
      "execution_count": 19,
      "metadata": {},
      "outputs": [
        {
          "name": "stdout",
          "output_type": "stream",
          "text": [
            "Warning: fill color ignored for annot type 'Highlight'.\n",
            "Warning: fill color ignored for annot type 'Highlight'.\n",
            "Warning: fill color ignored for annot type 'Highlight'.\n",
            "Warning: fill color ignored for annot type 'Highlight'.\n",
            "Warning: fill color ignored for annot type 'Highlight'.\n",
            "Warning: fill color ignored for annot type 'Highlight'.\n",
            "Warning: fill color ignored for annot type 'Highlight'.\n",
            "Warning: fill color ignored for annot type 'Highlight'.\n",
            "Warning: fill color ignored for annot type 'Highlight'.\n",
            "Warning: fill color ignored for annot type 'Highlight'.\n",
            "Warning: fill color ignored for annot type 'Highlight'.\n",
            "Warning: fill color ignored for annot type 'Highlight'.\n",
            "Warning: fill color ignored for annot type 'Highlight'.\n",
            "Warning: fill color ignored for annot type 'Highlight'.\n",
            "Warning: fill color ignored for annot type 'Highlight'.\n",
            "Warning: fill color ignored for annot type 'Highlight'.\n",
            "Warning: fill color ignored for annot type 'Highlight'.\n",
            "Warning: fill color ignored for annot type 'Highlight'.\n",
            "Warning: fill color ignored for annot type 'Highlight'.\n",
            "Warning: fill color ignored for annot type 'Highlight'.\n",
            "Warning: fill color ignored for annot type 'Highlight'.\n",
            "Warning: fill color ignored for annot type 'Highlight'.\n",
            "Warning: fill color ignored for annot type 'Highlight'.\n",
            "Warning: fill color ignored for annot type 'Highlight'.\n",
            "Warning: fill color ignored for annot type 'Highlight'.\n",
            "Warning: fill color ignored for annot type 'Highlight'.\n",
            "Warning: fill color ignored for annot type 'Highlight'.\n",
            "Warning: fill color ignored for annot type 'Highlight'.\n",
            "Warning: fill color ignored for annot type 'Highlight'.\n",
            "Warning: fill color ignored for annot type 'Highlight'.\n",
            "Warning: fill color ignored for annot type 'Highlight'.\n",
            "Warning: fill color ignored for annot type 'Highlight'.\n",
            "Warning: fill color ignored for annot type 'Highlight'.\n",
            "Warning: fill color ignored for annot type 'Highlight'.\n",
            "Warning: fill color ignored for annot type 'Highlight'.\n",
            "Warning: fill color ignored for annot type 'Highlight'.\n",
            "Warning: fill color ignored for annot type 'Highlight'.\n",
            "Warning: fill color ignored for annot type 'Highlight'.\n",
            "Warning: fill color ignored for annot type 'Highlight'.\n",
            "Warning: fill color ignored for annot type 'Highlight'.\n",
            "Warning: fill color ignored for annot type 'Highlight'.\n",
            "Warning: fill color ignored for annot type 'Highlight'.\n",
            "Warning: fill color ignored for annot type 'Highlight'.\n",
            "Warning: fill color ignored for annot type 'Highlight'.\n",
            "Warning: fill color ignored for annot type 'Highlight'.\n",
            "Warning: fill color ignored for annot type 'Highlight'.\n",
            "Warning: fill color ignored for annot type 'Highlight'.\n",
            "Warning: fill color ignored for annot type 'Highlight'.\n",
            "Warning: fill color ignored for annot type 'Highlight'.\n",
            "Warning: fill color ignored for annot type 'Highlight'.\n",
            "Warning: fill color ignored for annot type 'Highlight'.\n",
            "Warning: fill color ignored for annot type 'Highlight'.\n",
            "Warning: fill color ignored for annot type 'Highlight'.\n",
            "Warning: fill color ignored for annot type 'Highlight'.\n",
            "Warning: fill color ignored for annot type 'Highlight'.\n",
            "Warning: fill color ignored for annot type 'Highlight'.\n",
            "Warning: fill color ignored for annot type 'Highlight'.\n",
            "Warning: fill color ignored for annot type 'Highlight'.\n",
            "Warning: fill color ignored for annot type 'Highlight'.\n",
            "Warning: fill color ignored for annot type 'Highlight'.\n",
            "Warning: fill color ignored for annot type 'Highlight'.\n",
            "Warning: fill color ignored for annot type 'Highlight'.\n",
            "Warning: fill color ignored for annot type 'Highlight'.\n",
            "Warning: fill color ignored for annot type 'Highlight'.\n",
            "Warning: fill color ignored for annot type 'Highlight'.\n",
            "Warning: fill color ignored for annot type 'Highlight'.\n",
            "Warning: fill color ignored for annot type 'Highlight'.\n",
            "Warning: fill color ignored for annot type 'Highlight'.\n",
            "Warning: fill color ignored for annot type 'Highlight'.\n",
            "Warning: fill color ignored for annot type 'Highlight'.\n",
            "Warning: fill color ignored for annot type 'Highlight'.\n",
            "Warning: fill color ignored for annot type 'Highlight'.\n",
            "Warning: fill color ignored for annot type 'Highlight'.\n",
            "Warning: fill color ignored for annot type 'Highlight'.\n",
            "Warning: fill color ignored for annot type 'Highlight'.\n",
            "Warning: fill color ignored for annot type 'Highlight'.\n",
            "Warning: fill color ignored for annot type 'Highlight'.\n",
            "Warning: fill color ignored for annot type 'Highlight'.\n",
            "Warning: fill color ignored for annot type 'Highlight'.\n",
            "Warning: fill color ignored for annot type 'Highlight'.\n",
            "Warning: fill color ignored for annot type 'Highlight'.\n",
            "Warning: fill color ignored for annot type 'Highlight'.\n",
            "Warning: fill color ignored for annot type 'Highlight'.\n",
            "Warning: fill color ignored for annot type 'Highlight'.\n",
            "Warning: fill color ignored for annot type 'Highlight'.\n",
            "Warning: fill color ignored for annot type 'Highlight'.\n",
            "Warning: fill color ignored for annot type 'Highlight'.\n",
            "Warning: fill color ignored for annot type 'Highlight'.\n",
            "Warning: fill color ignored for annot type 'Highlight'.\n",
            "Warning: fill color ignored for annot type 'Highlight'.\n",
            "Warning: fill color ignored for annot type 'Highlight'.\n",
            "Warning: fill color ignored for annot type 'Highlight'.\n",
            "Warning: fill color ignored for annot type 'Highlight'.\n",
            "Warning: fill color ignored for annot type 'Highlight'.\n",
            "Warning: fill color ignored for annot type 'Highlight'.\n",
            "Warning: fill color ignored for annot type 'Highlight'.\n",
            "Warning: fill color ignored for annot type 'Highlight'.\n",
            "Warning: fill color ignored for annot type 'Highlight'.\n",
            "Warning: fill color ignored for annot type 'Highlight'.\n",
            "Warning: fill color ignored for annot type 'Highlight'.\n",
            "Warning: fill color ignored for annot type 'Highlight'.\n",
            "Warning: fill color ignored for annot type 'Highlight'.\n",
            "Warning: fill color ignored for annot type 'Highlight'.\n",
            "Warning: fill color ignored for annot type 'Highlight'.\n",
            "Warning: fill color ignored for annot type 'Highlight'.\n",
            "Warning: fill color ignored for annot type 'Highlight'.\n",
            "Warning: fill color ignored for annot type 'Highlight'.\n",
            "Warning: fill color ignored for annot type 'Highlight'.\n",
            "Warning: fill color ignored for annot type 'Highlight'.\n",
            "Warning: fill color ignored for annot type 'Highlight'.\n",
            "Warning: fill color ignored for annot type 'Highlight'.\n",
            "Warning: fill color ignored for annot type 'Highlight'.\n",
            "Warning: fill color ignored for annot type 'Highlight'.\n",
            "Warning: fill color ignored for annot type 'Highlight'.\n",
            "Warning: fill color ignored for annot type 'Highlight'.\n",
            "Warning: fill color ignored for annot type 'Highlight'.\n",
            "Warning: fill color ignored for annot type 'Highlight'.\n",
            "Warning: fill color ignored for annot type 'Highlight'.\n",
            "Warning: fill color ignored for annot type 'Highlight'.\n",
            "Warning: fill color ignored for annot type 'Highlight'.\n",
            "Warning: fill color ignored for annot type 'Highlight'.\n",
            "Warning: fill color ignored for annot type 'Highlight'.\n"
          ]
        },
        {
          "data": {
            "text/plain": [
              "['10 000 years',\n",
              " 'one',\n",
              " 'one',\n",
              " 'about 1 billion years',\n",
              " '1 billion years',\n",
              " '1 billion years',\n",
              " 'one billion years',\n",
              " 'just under',\n",
              " 'ten thousand years',\n",
              " 'the year ten thousand',\n",
              " 'more than four',\n",
              " '10 000 years',\n",
              " 'twenty thousand\\nyears',\n",
              " 'one percent',\n",
              " 'fifty thousand\\nyears from now',\n",
              " 'niagara',\n",
              " 'a full day',\n",
              " 'one second',\n",
              " '250 000 years',\n",
              " 'hawaii',\n",
              " '500 000 years',\n",
              " 'no less than',\n",
              " '400 kilometers',\n",
              " '1\\nmillion years',\n",
              " '3 200 cubic\\nkilometers',\n",
              " '75',\n",
              " '70 000 years ago',\n",
              " '2 million',\n",
              " '10 million years',\n",
              " 'eastern africa',\n",
              " '50 million years africa',\n",
              " 'eurasia',\n",
              " 'the mediterranean sea',\n",
              " 'two',\n",
              " 'mount everest',\n",
              " '60 million years',\n",
              " 'canadian',\n",
              " 'american',\n",
              " '80 million years',\n",
              " 'hawaiian',\n",
              " '100 million years',\n",
              " '66 million years ago',\n",
              " '10 kilometers',\n",
              " '250 million years',\n",
              " 'earth',\n",
              " '400 to 500 million',\n",
              " '500 to 600 million',\n",
              " '6 500 light\\nyears',\n",
              " '600\\nmillion',\n",
              " '800 million years',\n",
              " '1 billion years',\n",
              " '10 percent',\n",
              " '47 degrees']"
            ]
          },
          "execution_count": 19,
          "metadata": {},
          "output_type": "execute_result"
        }
      ],
      "source": [
        "highlight_words_in_pdf(pdf_path, words)\n",
        "words"
      ]
    }
  ],
  "metadata": {
    "colab": {
      "authorship_tag": "ABX9TyNX5TTCSp800Cwhh1fcTu6H",
      "include_colab_link": true,
      "provenance": []
    },
    "kernelspec": {
      "display_name": "Python 3",
      "name": "python3"
    },
    "language_info": {
      "codemirror_mode": {
        "name": "ipython",
        "version": 3
      },
      "file_extension": ".py",
      "mimetype": "text/x-python",
      "name": "python",
      "nbconvert_exporter": "python",
      "pygments_lexer": "ipython3",
      "version": "3.10.8"
    }
  },
  "nbformat": 4,
  "nbformat_minor": 0
}
