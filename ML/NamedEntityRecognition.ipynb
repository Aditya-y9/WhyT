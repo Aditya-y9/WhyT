{
  "cells": [
    {
      "cell_type": "markdown",
      "metadata": {
        "colab_type": "text",
        "id": "view-in-github"
      },
      "source": [
        "<a href=\"https://colab.research.google.com/github/Aditya-y9/inheritance-project/blob/main/NamedEntityRecognition.ipynb\" target=\"_parent\"><img src=\"https://colab.research.google.com/assets/colab-badge.svg\" alt=\"Open In Colab\"/></a>"
      ]
    },
    {
      "cell_type": "code",
      "execution_count": 1,
      "metadata": {
        "colab": {
          "base_uri": "https://localhost:8080/"
        },
        "id": "r0gwRM1UiDM3",
        "outputId": "2f08a4f6-4667-456f-9a45-2e39e86d933c"
      },
      "outputs": [
        {
          "name": "stdout",
          "output_type": "stream",
          "text": [
            "Requirement already satisfied: PyMuPDF in c:\\users\\mshome\\appdata\\local\\programs\\python\\python310\\lib\\site-packages (1.23.18)\n",
            "Requirement already satisfied: PyMuPDFb==1.23.9 in c:\\users\\mshome\\appdata\\local\\programs\\python\\python310\\lib\\site-packages (from PyMuPDF) (1.23.9)\n",
            "Note: you may need to restart the kernel to use updated packages.\n"
          ]
        },
        {
          "name": "stderr",
          "output_type": "stream",
          "text": [
            "\n",
            "[notice] A new release of pip available: 22.2.2 -> 23.3.2\n",
            "[notice] To update, run: python.exe -m pip install --upgrade pip\n"
          ]
        },
        {
          "name": "stdout",
          "output_type": "stream",
          "text": [
            "Requirement already satisfied: spacy in c:\\users\\mshome\\appdata\\local\\programs\\python\\python310\\lib\\site-packages (3.7.2)\n",
            "Requirement already satisfied: smart-open<7.0.0,>=5.2.1 in c:\\users\\mshome\\appdata\\local\\programs\\python\\python310\\lib\\site-packages (from spacy) (6.4.0)\n",
            "Requirement already satisfied: typer<0.10.0,>=0.3.0 in c:\\users\\mshome\\appdata\\local\\programs\\python\\python310\\lib\\site-packages (from spacy) (0.9.0)\n",
            "Requirement already satisfied: langcodes<4.0.0,>=3.2.0 in c:\\users\\mshome\\appdata\\local\\programs\\python\\python310\\lib\\site-packages (from spacy) (3.3.0)\n",
            "Requirement already satisfied: weasel<0.4.0,>=0.1.0 in c:\\users\\mshome\\appdata\\local\\programs\\python\\python310\\lib\\site-packages (from spacy) (0.3.4)\n",
            "Requirement already satisfied: packaging>=20.0 in c:\\users\\mshome\\appdata\\roaming\\python\\python310\\site-packages (from spacy) (23.2)\n",
            "Requirement already satisfied: jinja2 in c:\\users\\mshome\\appdata\\local\\programs\\python\\python310\\lib\\site-packages (from spacy) (3.1.2)\n",
            "Requirement already satisfied: tqdm<5.0.0,>=4.38.0 in c:\\users\\mshome\\appdata\\local\\programs\\python\\python310\\lib\\site-packages (from spacy) (4.66.1)\n",
            "Requirement already satisfied: requests<3.0.0,>=2.13.0 in c:\\users\\mshome\\appdata\\roaming\\python\\python310\\site-packages (from spacy) (2.31.0)\n",
            "Requirement already satisfied: cymem<2.1.0,>=2.0.2 in c:\\users\\mshome\\appdata\\local\\programs\\python\\python310\\lib\\site-packages (from spacy) (2.0.8)\n",
            "Requirement already satisfied: preshed<3.1.0,>=3.0.2 in c:\\users\\mshome\\appdata\\local\\programs\\python\\python310\\lib\\site-packages (from spacy) (3.0.9)\n",
            "Requirement already satisfied: numpy>=1.19.0 in c:\\users\\mshome\\appdata\\roaming\\python\\python310\\site-packages (from spacy) (1.26.0)\n",
            "Requirement already satisfied: spacy-loggers<2.0.0,>=1.0.0 in c:\\users\\mshome\\appdata\\local\\programs\\python\\python310\\lib\\site-packages (from spacy) (1.0.5)\n",
            "Requirement already satisfied: catalogue<2.1.0,>=2.0.6 in c:\\users\\mshome\\appdata\\local\\programs\\python\\python310\\lib\\site-packages (from spacy) (2.0.10)\n",
            "Requirement already satisfied: pydantic!=1.8,!=1.8.1,<3.0.0,>=1.7.4 in c:\\users\\mshome\\appdata\\local\\programs\\python\\python310\\lib\\site-packages (from spacy) (2.5.1)\n",
            "Requirement already satisfied: setuptools in c:\\users\\mshome\\appdata\\local\\programs\\python\\python310\\lib\\site-packages (from spacy) (63.2.0)\n",
            "Requirement already satisfied: thinc<8.3.0,>=8.1.8 in c:\\users\\mshome\\appdata\\local\\programs\\python\\python310\\lib\\site-packages (from spacy) (8.2.1)\n",
            "Requirement already satisfied: murmurhash<1.1.0,>=0.28.0 in c:\\users\\mshome\\appdata\\local\\programs\\python\\python310\\lib\\site-packages (from spacy) (1.0.10)\n",
            "Requirement already satisfied: srsly<3.0.0,>=2.4.3 in c:\\users\\mshome\\appdata\\local\\programs\\python\\python310\\lib\\site-packages (from spacy) (2.4.8)\n",
            "Requirement already satisfied: spacy-legacy<3.1.0,>=3.0.11 in c:\\users\\mshome\\appdata\\local\\programs\\python\\python310\\lib\\site-packages (from spacy) (3.0.12)\n",
            "Requirement already satisfied: wasabi<1.2.0,>=0.9.1 in c:\\users\\mshome\\appdata\\local\\programs\\python\\python310\\lib\\site-packages (from spacy) (1.1.2)\n",
            "Requirement already satisfied: typing-extensions>=4.6.1 in c:\\users\\mshome\\appdata\\roaming\\python\\python310\\site-packages (from pydantic!=1.8,!=1.8.1,<3.0.0,>=1.7.4->spacy) (4.8.0)\n",
            "Requirement already satisfied: pydantic-core==2.14.3 in c:\\users\\mshome\\appdata\\local\\programs\\python\\python310\\lib\\site-packages (from pydantic!=1.8,!=1.8.1,<3.0.0,>=1.7.4->spacy) (2.14.3)\n",
            "Requirement already satisfied: annotated-types>=0.4.0 in c:\\users\\mshome\\appdata\\local\\programs\\python\\python310\\lib\\site-packages (from pydantic!=1.8,!=1.8.1,<3.0.0,>=1.7.4->spacy) (0.6.0)\n",
            "Requirement already satisfied: idna<4,>=2.5 in c:\\users\\mshome\\appdata\\roaming\\python\\python310\\site-packages (from requests<3.0.0,>=2.13.0->spacy) (3.4)\n",
            "Requirement already satisfied: certifi>=2017.4.17 in c:\\users\\mshome\\appdata\\roaming\\python\\python310\\site-packages (from requests<3.0.0,>=2.13.0->spacy) (2023.7.22)\n",
            "Requirement already satisfied: charset-normalizer<4,>=2 in c:\\users\\mshome\\appdata\\roaming\\python\\python310\\site-packages (from requests<3.0.0,>=2.13.0->spacy) (3.2.0)\n",
            "Requirement already satisfied: urllib3<3,>=1.21.1 in c:\\users\\mshome\\appdata\\roaming\\python\\python310\\site-packages (from requests<3.0.0,>=2.13.0->spacy) (2.0.4)\n",
            "Requirement already satisfied: blis<0.8.0,>=0.7.8 in c:\\users\\mshome\\appdata\\local\\programs\\python\\python310\\lib\\site-packages (from thinc<8.3.0,>=8.1.8->spacy) (0.7.11)\n",
            "Requirement already satisfied: confection<1.0.0,>=0.0.1 in c:\\users\\mshome\\appdata\\local\\programs\\python\\python310\\lib\\site-packages (from thinc<8.3.0,>=8.1.8->spacy) (0.1.3)\n",
            "Requirement already satisfied: colorama in c:\\users\\mshome\\appdata\\roaming\\python\\python310\\site-packages (from tqdm<5.0.0,>=4.38.0->spacy) (0.4.6)\n",
            "Requirement already satisfied: click<9.0.0,>=7.1.1 in c:\\users\\mshome\\appdata\\roaming\\python\\python310\\site-packages (from typer<0.10.0,>=0.3.0->spacy) (8.1.7)\n",
            "Requirement already satisfied: cloudpathlib<0.17.0,>=0.7.0 in c:\\users\\mshome\\appdata\\local\\programs\\python\\python310\\lib\\site-packages (from weasel<0.4.0,>=0.1.0->spacy) (0.16.0)\n",
            "Requirement already satisfied: MarkupSafe>=2.0 in c:\\users\\mshome\\appdata\\roaming\\python\\python310\\site-packages (from jinja2->spacy) (2.1.3)\n",
            "Note: you may need to restart the kernel to use updated packages.\n"
          ]
        },
        {
          "name": "stderr",
          "output_type": "stream",
          "text": [
            "\n",
            "[notice] A new release of pip available: 22.2.2 -> 23.3.2\n",
            "[notice] To update, run: python.exe -m pip install --upgrade pip\n",
            "UsageError: Line magic function `%python` not found (But cell magic `%%python` exists, did you mean that instead?).\n"
          ]
        }
      ],
      "source": [
        "%pip install PyMuPDF\n",
        "%pip install spacy\n",
        "%python -m spacy download en_core_web_sm"
      ]
    },
    {
      "cell_type": "code",
      "execution_count": 2,
      "metadata": {},
      "outputs": [
        {
          "name": "stdout",
          "output_type": "stream",
          "text": [
            "Note: you may need to restart the kernel to use updated packages.Requirement already satisfied: PyMuPDF in c:\\users\\mshome\\appdata\\local\\programs\\python\\python310\\lib\\site-packages (1.23.18)\n",
            "Requirement already satisfied: PyMuPDFb==1.23.9 in c:\\users\\mshome\\appdata\\local\\programs\\python\\python310\\lib\\site-packages (from PyMuPDF) (1.23.9)\n",
            "\n"
          ]
        },
        {
          "name": "stderr",
          "output_type": "stream",
          "text": [
            "\n",
            "[notice] A new release of pip available: 22.2.2 -> 23.3.2\n",
            "[notice] To update, run: python.exe -m pip install --upgrade pip\n"
          ]
        }
      ],
      "source": [
        "%pip install --upgrade PyMuPDF"
      ]
    },
    {
      "cell_type": "code",
      "execution_count": 3,
      "metadata": {
        "id": "AaG2c57dlFLv"
      },
      "outputs": [],
      "source": [
        "import fitz\n",
        "import spacy"
      ]
    },
    {
      "cell_type": "code",
      "execution_count": 5,
      "metadata": {
        "id": "_Dw10j8qlN-5"
      },
      "outputs": [
        {
          "name": "stdout",
          "output_type": "stream",
          "text": [
            "\u001b[38;5;2m✔ Download and installation successful\u001b[0m\n",
            "You can now load the package via spacy.load('en_core_web_sm')\n"
          ]
        }
      ],
      "source": [
        "spacy.cli.download(\"en_core_web_sm\")\n",
        "nlp = spacy.load('en_core_web_sm')"
      ]
    },
    {
      "cell_type": "code",
      "execution_count": 6,
      "metadata": {
        "id": "hMG7_af8lRic"
      },
      "outputs": [],
      "source": [
        "def extract_text_from_pdf(pdf_path):\n",
        "    text = \"\"\n",
        "    try:\n",
        "        with fitz.open(pdf_path) as doc:\n",
        "            for page_num in range(doc.page_count):\n",
        "                page = doc[page_num]\n",
        "                text += page.get_text()\n",
        "    except Exception as e:\n",
        "        print(f\"Error extracting text: {str(e)}\")\n",
        "    return text"
      ]
    },
    {
      "cell_type": "code",
      "execution_count": 7,
      "metadata": {
        "id": "jG_Deu3MlSwI"
      },
      "outputs": [],
      "source": [
        "def perform_ner(video_transcript_path):\n",
        "\n",
        "    transcript_text = extract_text_from_pdf(video_transcript_path)\n",
        "\n",
        "\n",
        "    doc = nlp(transcript_text)\n",
        "\n",
        "\n",
        "    for ent in doc.ents:\n",
        "        print(f\"Entity: {ent.text}, Label: {ent.label_}\")"
      ]
    },
    {
      "cell_type": "code",
      "execution_count": 10,
      "metadata": {
        "colab": {
          "base_uri": "https://localhost:8080/"
        },
        "id": "MEUjgnRxlVxJ",
        "outputId": "6674d108-6caf-40d5-b4ac-42b4b56f2c3f"
      },
      "outputs": [
        {
          "name": "stdout",
          "output_type": "stream",
          "text": [
            "Entity: 10 000 years, Label: DATE\n",
            "Entity: one, Label: CARDINAL\n",
            "Entity: one, Label: CARDINAL\n",
            "Entity: about 1 billion years, Label: DATE\n",
            "Entity: 1 billion years, Label: DATE\n",
            "Entity: 1 billion years, Label: DATE\n",
            "Entity: one billion years, Label: DATE\n",
            "Entity: just under, Label: CARDINAL\n",
            "Entity: ten thousand years, Label: DATE\n",
            "Entity: the year ten thousand, Label: DATE\n",
            "Entity: more than four, Label: CARDINAL\n",
            "Entity: 10 000 years, Label: DATE\n",
            "Entity: twenty thousand\n",
            "years, Label: CARDINAL\n",
            "Entity: one percent, Label: PERCENT\n",
            "Entity: fifty thousand\n",
            "years from now, Label: DATE\n",
            "Entity: niagara, Label: PERSON\n",
            "Entity: a full day, Label: DATE\n",
            "Entity: one second, Label: TIME\n",
            "Entity: 250 000 years, Label: DATE\n",
            "Entity: hawaii, Label: GPE\n",
            "Entity: 500 000 years, Label: DATE\n",
            "Entity: no less than, Label: CARDINAL\n",
            "Entity: 400 kilometers, Label: QUANTITY\n",
            "Entity: 1\n",
            "million years, Label: DATE\n",
            "Entity: 3 200 cubic\n",
            "kilometers, Label: QUANTITY\n",
            "Entity: 75, Label: CARDINAL\n",
            "Entity: 70 000 years ago, Label: DATE\n",
            "Entity: 2 million, Label: CARDINAL\n",
            "Entity: 10 million years, Label: DATE\n",
            "Entity: eastern africa, Label: GPE\n",
            "Entity: 50 million years africa, Label: DATE\n",
            "Entity: eurasia, Label: PERSON\n",
            "Entity: the mediterranean sea, Label: LOC\n",
            "Entity: two, Label: CARDINAL\n",
            "Entity: mount everest, Label: LOC\n",
            "Entity: 60 million years, Label: DATE\n",
            "Entity: canadian, Label: NORP\n",
            "Entity: american, Label: NORP\n",
            "Entity: 80 million years, Label: DATE\n",
            "Entity: hawaiian, Label: NORP\n",
            "Entity: 100 million years, Label: DATE\n",
            "Entity: 66 million years ago, Label: DATE\n",
            "Entity: 10 kilometers, Label: QUANTITY\n",
            "Entity: 250 million years, Label: DATE\n",
            "Entity: earth, Label: LOC\n",
            "Entity: 400 to 500 million, Label: MONEY\n",
            "Entity: 500 to 600 million, Label: MONEY\n",
            "Entity: 6 500 light\n",
            "years, Label: QUANTITY\n",
            "Entity: 600\n",
            "million, Label: MONEY\n",
            "Entity: 800 million years, Label: DATE\n",
            "Entity: 1 billion years, Label: DATE\n",
            "Entity: 10 percent, Label: PERCENT\n",
            "Entity: 47 degrees, Label: QUANTITY\n"
          ]
        }
      ],
      "source": [
        "pdf_path = \"transcript_output.pdf\"\n",
        "perform_ner(pdf_path)"
      ]
    }
  ],
  "metadata": {
    "colab": {
      "authorship_tag": "ABX9TyNX5TTCSp800Cwhh1fcTu6H",
      "include_colab_link": true,
      "provenance": []
    },
    "kernelspec": {
      "display_name": "Python 3",
      "name": "python3"
    },
    "language_info": {
      "codemirror_mode": {
        "name": "ipython",
        "version": 3
      },
      "file_extension": ".py",
      "mimetype": "text/x-python",
      "name": "python",
      "nbconvert_exporter": "python",
      "pygments_lexer": "ipython3",
      "version": "3.10.8"
    }
  },
  "nbformat": 4,
  "nbformat_minor": 0
}
