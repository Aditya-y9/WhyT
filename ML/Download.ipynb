{
 "cells": [
  {
   "cell_type": "code",
   "execution_count": 4,
   "metadata": {},
   "outputs": [
    {
     "name": "stdout",
     "output_type": "stream",
     "text": [
      "Requirement already satisfied: pytube in c:\\users\\mshome\\appdata\\local\\programs\\python\\python310\\lib\\site-packages (15.0.0)\n",
      "Note: you may need to restart the kernel to use updated packages.\n"
     ]
    },
    {
     "name": "stderr",
     "output_type": "stream",
     "text": [
      "\n",
      "[notice] A new release of pip available: 22.2.2 -> 23.3.2\n",
      "[notice] To update, run: python.exe -m pip install --upgrade pip\n"
     ]
    }
   ],
   "source": [
    "%pip install pytube"
   ]
  },
  {
   "cell_type": "code",
   "execution_count": 5,
   "metadata": {},
   "outputs": [],
   "source": [
    "from pytube import YouTube\n",
    "import re\n",
    "\n",
    "def clean_filename(title):\n",
    "    # Remove special characters and replace spaces with underscores\n",
    "    cleaned_title = re.sub(r'[^\\w\\s]', '', title)\n",
    "    cleaned_title = cleaned_title.replace(' ', '_')\n",
    "    return cleaned_title\n",
    "\n",
    "def download_youtube_video(video_url, output_path='.'):\n",
    "    try:\n",
    "        # Create a YouTube object\n",
    "        yt = YouTube(video_url)\n",
    "        \n",
    "        # Get the highest resolution stream\n",
    "        video_stream = yt.streams.get_highest_resolution()\n",
    "        \n",
    "        # Download the video\n",
    "        cleaned_title = clean_filename(yt.title)\n",
    "        print(f\"Downloading: {cleaned_title}\")\n",
    "        video_stream.download(output_path, filename=cleaned_title)\n",
    "        print(\"Download complete, Enjoy WhyT!\")\n",
    "\n",
    "    except Exception as e:\n",
    "        print(e)\n",
    "\n",
    "\n"
   ]
  },
  {
   "cell_type": "code",
   "execution_count": 6,
   "metadata": {},
   "outputs": [
    {
     "name": "stdout",
     "output_type": "stream",
     "text": [
      "Downloading: Andrew_Ng_Opportunities_in_AI__2023\n",
      "Download complete, Enjoy WhyT!\n"
     ]
    }
   ],
   "source": [
    "video_url = input(\"Enter the YouTube video URL: \")\n",
    "download_youtube_video(video_url, '.')"
   ]
  }
 ],
 "metadata": {
  "kernelspec": {
   "display_name": "Python 3",
   "language": "python",
   "name": "python3"
  },
  "language_info": {
   "codemirror_mode": {
    "name": "ipython",
    "version": 3
   },
   "file_extension": ".py",
   "mimetype": "text/x-python",
   "name": "python",
   "nbconvert_exporter": "python",
   "pygments_lexer": "ipython3",
   "version": "3.10.8"
  }
 },
 "nbformat": 4,
 "nbformat_minor": 2
}
