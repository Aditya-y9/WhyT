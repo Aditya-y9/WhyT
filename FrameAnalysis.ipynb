{
  "cells": [
    {
      "cell_type": "code",
      "execution_count": 5,
      "metadata": {
        "colab": {
          "base_uri": "https://localhost:8080/"
        },
        "id": "I-4bHw2YsHjc",
        "outputId": "dec731a9-ab87-456c-d84b-499a4c8115eb"
      },
      "outputs": [
        {
          "name": "stdout",
          "output_type": "stream",
          "text": [
            "Note: you may need to restart the kernel to use updated packages.Requirement already satisfied: pytube in c:\\users\\mshome\\appdata\\local\\programs\\python\\python310\\lib\\site-packages (15.0.0)\n",
            "Requirement already satisfied: opencv-python in c:\\users\\mshome\\appdata\\roaming\\python\\python310\\site-packages (4.8.0.76)\n",
            "Requirement already satisfied: pillow in c:\\users\\mshome\\appdata\\roaming\\python\\python310\\site-packages (10.0.1)\n",
            "Requirement already satisfied: fpdf in c:\\users\\mshome\\appdata\\local\\programs\\python\\python310\\lib\\site-packages (1.7.2)\n",
            "Requirement already satisfied: numpy>=1.17.0 in c:\\users\\mshome\\appdata\\roaming\\python\\python310\\site-packages (from opencv-python) (1.26.0)\n",
            "\n"
          ]
        },
        {
          "name": "stderr",
          "output_type": "stream",
          "text": [
            "\n",
            "[notice] A new release of pip available: 22.2.2 -> 23.3.2\n",
            "[notice] To update, run: python.exe -m pip install --upgrade pip\n"
          ]
        },
        {
          "name": "stdout",
          "output_type": "stream",
          "text": [
            "Requirement already satisfied: moviepy in c:\\users\\mshome\\appdata\\local\\programs\\python\\python310\\lib\\site-packages (1.0.3)\n",
            "Requirement already satisfied: imageio<3.0,>=2.5 in c:\\users\\mshome\\appdata\\local\\programs\\python\\python310\\lib\\site-packages (from moviepy) (2.33.1)\n",
            "Requirement already satisfied: decorator<5.0,>=4.0.2 in c:\\users\\mshome\\appdata\\local\\programs\\python\\python310\\lib\\site-packages (from moviepy) (4.4.2)\n",
            "Requirement already satisfied: numpy in c:\\users\\mshome\\appdata\\roaming\\python\\python310\\site-packages (from moviepy) (1.26.0)\n",
            "Requirement already satisfied: requests<3.0,>=2.8.1 in c:\\users\\mshome\\appdata\\roaming\\python\\python310\\site-packages (from moviepy) (2.31.0)\n",
            "Requirement already satisfied: proglog<=1.0.0 in c:\\users\\mshome\\appdata\\local\\programs\\python\\python310\\lib\\site-packages (from moviepy) (0.1.10)\n",
            "Requirement already satisfied: tqdm<5.0,>=4.11.2 in c:\\users\\mshome\\appdata\\local\\programs\\python\\python310\\lib\\site-packages (from moviepy) (4.66.1)\n",
            "Requirement already satisfied: imageio-ffmpeg>=0.2.0 in c:\\users\\mshome\\appdata\\local\\programs\\python\\python310\\lib\\site-packages (from moviepy) (0.4.9)\n",
            "Requirement already satisfied: pillow>=8.3.2 in c:\\users\\mshome\\appdata\\roaming\\python\\python310\\site-packages (from imageio<3.0,>=2.5->moviepy) (10.0.1)\n",
            "Requirement already satisfied: setuptools in c:\\users\\mshome\\appdata\\local\\programs\\python\\python310\\lib\\site-packages (from imageio-ffmpeg>=0.2.0->moviepy) (63.2.0)\n",
            "Requirement already satisfied: charset-normalizer<4,>=2 in c:\\users\\mshome\\appdata\\roaming\\python\\python310\\site-packages (from requests<3.0,>=2.8.1->moviepy) (3.2.0)\n",
            "Requirement already satisfied: idna<4,>=2.5 in c:\\users\\mshome\\appdata\\roaming\\python\\python310\\site-packages (from requests<3.0,>=2.8.1->moviepy) (3.4)\n",
            "Requirement already satisfied: urllib3<3,>=1.21.1 in c:\\users\\mshome\\appdata\\roaming\\python\\python310\\site-packages (from requests<3.0,>=2.8.1->moviepy) (2.0.4)\n",
            "Requirement already satisfied: certifi>=2017.4.17 in c:\\users\\mshome\\appdata\\roaming\\python\\python310\\site-packages (from requests<3.0,>=2.8.1->moviepy) (2023.7.22)\n",
            "Requirement already satisfied: colorama in c:\\users\\mshome\\appdata\\roaming\\python\\python310\\site-packages (from tqdm<5.0,>=4.11.2->moviepy) (0.4.6)\n",
            "Note: you may need to restart the kernel to use updated packages.\n"
          ]
        },
        {
          "name": "stderr",
          "output_type": "stream",
          "text": [
            "\n",
            "[notice] A new release of pip available: 22.2.2 -> 23.3.2\n",
            "[notice] To update, run: python.exe -m pip install --upgrade pip\n"
          ]
        }
      ],
      "source": [
        "%pip install pytube opencv-python pillow fpdf\n",
        "%pip install moviepy"
      ]
    },
    {
      "cell_type": "code",
      "execution_count": 9,
      "metadata": {
        "colab": {
          "base_uri": "https://localhost:8080/",
          "height": 567
        },
        "id": "ggdbXVnZuJRR",
        "outputId": "f8ed1d2d-ac75-4f60-ffa5-18e815196a0e"
      },
      "outputs": [
        {
          "name": "stdout",
          "output_type": "stream",
          "text": [
            "Total frames in the video: 17899\n",
            "PDF generated successfully at output_pdf.pdf\n"
          ]
        }
      ],
      "source": [
        "from PIL import Image\n",
        "from fpdf import FPDF\n",
        "from moviepy.editor import VideoFileClip\n",
        "import os\n",
        "\n",
        "def extract_frames(video_path, num_frames=5):\n",
        "    clip = VideoFileClip(video_path)\n",
        "    frames = []\n",
        "\n",
        "    frame_interval = max(int(clip.fps * clip.duration) // num_frames, 1)\n",
        "\n",
        "    print(f\"Total frames in the video: {int(clip.fps * clip.duration)}\")\n",
        "\n",
        "    for i in range(0, int(clip.fps * clip.duration), frame_interval):\n",
        "        frame = clip.get_frame(i / clip.fps)\n",
        "        pil_image = Image.fromarray((frame * 255).astype('uint8'))\n",
        "        frames.append(pil_image)\n",
        "\n",
        "    return frames\n",
        "\n",
        "def generate_pdf(frames, output_pdf_path):\n",
        "    pdf = FPDF()\n",
        "    pdf.set_auto_page_break(auto=True, margin=15)\n",
        "    pdf.set_font(\"Arial\", size=12)\n",
        "\n",
        "    for i, frame in enumerate(frames):\n",
        "        image_filename = f\"frame_{i + 1}.png\"\n",
        "        frame.save(image_filename, format='PNG')\n",
        "        pdf.add_page()\n",
        "        pdf.image(image_filename, x=15, y=15, w=180)\n",
        "        os.remove(image_filename)\n",
        "\n",
        "    pdf.output(output_pdf_path)\n",
        "\n",
        "if __name__ == \"__main__\":\n",
        "    video_path = 'D:\\Downloads\\System Model Architecture Model in Hindi.mp4'\n",
        "    output_pdf_path = 'output_pdf.pdf'\n",
        "\n",
        "    frames = extract_frames(video_path, num_frames=5)\n",
        "\n",
        "    if frames:\n",
        "        generate_pdf(frames, output_pdf_path)\n",
        "        print(f\"PDF generated successfully at {output_pdf_path}\")\n",
        "    else:\n",
        "        print(\"No frames extracted.\")\n",
        "\n"
      ]
    }
  ],
  "metadata": {
    "colab": {
      "provenance": []
    },
    "kernelspec": {
      "display_name": "Python 3",
      "name": "python3"
    },
    "language_info": {
      "codemirror_mode": {
        "name": "ipython",
        "version": 3
      },
      "file_extension": ".py",
      "mimetype": "text/x-python",
      "name": "python",
      "nbconvert_exporter": "python",
      "pygments_lexer": "ipython3",
      "version": "3.10.8"
    }
  },
  "nbformat": 4,
  "nbformat_minor": 0
}
